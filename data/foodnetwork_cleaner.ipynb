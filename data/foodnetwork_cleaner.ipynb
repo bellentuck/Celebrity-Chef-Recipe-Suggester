{
 "cells": [
  {
   "cell_type": "markdown",
   "metadata": {},
   "source": [
    "A notebook for cleaning celebrity chef recipe data and putting it in a local MongoDB collection."
   ]
  },
  {
   "cell_type": "markdown",
   "metadata": {},
   "source": [
    "#0. Setup"
   ]
  },
  {
   "cell_type": "code",
   "execution_count": null,
   "metadata": {
    "collapsed": true
   },
   "outputs": [],
   "source": [
    "import pickle\n",
    "import re\n",
    "import nltk\n",
    "from nltk.stem import WordNetLemmatizer\n",
    "import numpy as np\n",
    "import pymongo\n",
    "from tqdm import tqdm"
   ]
  },
  {
   "cell_type": "markdown",
   "metadata": {},
   "source": [
    "Mongo initialization:"
   ]
  },
  {
   "cell_type": "code",
   "execution_count": null,
   "metadata": {
    "collapsed": true
   },
   "outputs": [],
   "source": [
    "client = pymongo.MongoClient()\n",
    "chefs = client.chefs_db\n",
    "celebrity_recipes = client.chefs_db.celebrity_recipes\n",
    "recipe_links = client.chefs_db.celebrity_recipe_links #more metadata-y"
   ]
  },
  {
   "cell_type": "markdown",
   "metadata": {},
   "source": [
    "Barrel of picklefile names:"
   ]
  },
  {
   "cell_type": "code",
   "execution_count": null,
   "metadata": {
    "collapsed": true
   },
   "outputs": [],
   "source": [
    "barrel = ['giada_betterinfo_0.pkl', 'giada_betterinfo_1.pkl', 'giada_betterinfo_2.pkl', \n",
    "          'alton_betterinfo_0.pkl', 'alton_betterinfo_1.pkl', 'yearwood_betterinfo.pkl', \n",
    "          'fieri_betterinfo_0.pkl', 'fieri_betterinfo_1.pkl', 'bertinelli_betterinfo.pkl', \n",
    "          'valladolid_betterinfo.pkl', 'garten_betterinfo_0.pkl', 'garten_betterinfo_1.pkl', \n",
    "          'garten_betterinfo_2.pkl', 'drummond_betterinfo_0.pkl', 'drummond_betterinfo_1.pkl', \n",
    "          'flay_betterinfo_0.pkl', 'flay_betterinfo_1.pkl', 'flay_betterinfo_2.pkl', \n",
    "          'irvine_betterinfo_0.pkl', 'irvine_betterinfo_1.pkl', 'sunny_betterinfo.pkl', \n",
    "          'duff_betterinfo.pkl']"
   ]
  },
  {
   "cell_type": "markdown",
   "metadata": {},
   "source": [
    "#1. NLP setup"
   ]
  },
  {
   "cell_type": "markdown",
   "metadata": {},
   "source": [
    "Stopwords to remove from ingredients text:"
   ]
  },
  {
   "cell_type": "code",
   "execution_count": null,
   "metadata": {
    "collapsed": true
   },
   "outputs": [],
   "source": [
    "specs = ['dash', 'pinch', 'teaspoon', 'tablespoon', 'cup', 'scoop', 'pound', 'ounce', 'oz', \n",
    "         'quart', 'pint', 'gallon', 'milliliter', 'ml', 'liter', 'small', 'medium', 'large', \n",
    "         'freshly', 'fresh', 'ground', 'piece', 'clove', 'boneless', 'cube', 'dice', 'finely', \n",
    "         'grated', 'to', 'inch', 'each', 'whole', 'about', 'as', 'thawed', 'by', 'all', 'a',\n",
    "         'chopped', 'crushed', 'plus', 'minus', 'such', 'the', 'an', 'slice', 'approximately',\n",
    "         'and', 'or', 'weight', 'of', 'recipe', 'basic', 'slab', 'stick', 'pure', 'melt', \n",
    "         'melted', 'dry', 'dried'] "
   ]
  },
  {
   "cell_type": "markdown",
   "metadata": {},
   "source": [
    "Helper function to clean ingredients text:"
   ]
  },
  {
   "cell_type": "code",
   "execution_count": null,
   "metadata": {
    "collapsed": true
   },
   "outputs": [],
   "source": [
    "def scrub_ingredients(ingredient_list, specs=specs):\n",
    "    ingredients = []\n",
    "    for item in ingredient_list:\n",
    "        if ',' in item:\n",
    "            item = item.split(',')[0]\n",
    "        line = [WordNetLemmatizer().lemmatize(term.decode('latin-1')) \n",
    "                for term in item.lower().split()] \n",
    "        line = [term.encode('utf-8') for term in line \n",
    "                if re.sub('[^a-z]+', '', term) not in specs] \n",
    "        for i, term in enumerate(line):\n",
    "            try: \n",
    "                if re.match('[0-9]', term) and not re.match('[0-9]', line[i+1]):\n",
    "                    ingredient = ' '.join(line[i+1:])\n",
    "                    if ingredient[0] == ' ':\n",
    "                        ingredient = ingredient[1:]\n",
    "                    ingredients.append(re.sub('[^a-z -]+', '', ingredient))\n",
    "            except:\n",
    "                continue\n",
    "    return ingredients"
   ]
  },
  {
   "cell_type": "markdown",
   "metadata": {},
   "source": [
    "Sample input:\n",
    "```\n",
    "['2 cups water', '1 cup apple cider vinegar', '1/4 cup kosher salt', '6 cloves garlic, peeled and crushed', '2 tablespoons sugar', '2 tablespoons yellow mustard seed', '2 tablespoons hot sauce', '1 tablespoon celery seed', '1 bay leaf', '1/4 teaspoon whole black peppercorns', '8 ounces ice', '1 1/2 pounds fresh boneless pork butt, cut into 2-inch cubes']\n",
    "```\n",
    "\n",
    "Sample output:\n",
    "```\n",
    "['bay leaf', 'celery seed', 'sugar', 'water', 'garlic', 'ice', 'hot sauce', 'apple cider vinegar', 'black peppercorn', 'yellow mustard seed', 'pork butt', 'kosher salt']\n",
    "```\n",
    "\n",
    "Future optimization: extract and normalize ingredient and yield amounts. Not useful for this project but would be useful for a 'recipe quantity multiplier' side project."
   ]
  },
  {
   "cell_type": "markdown",
   "metadata": {},
   "source": [
    "Helper function to extract durations (in minutes) from text about recipe times:"
   ]
  },
  {
   "cell_type": "code",
   "execution_count": null,
   "metadata": {
    "collapsed": true
   },
   "outputs": [],
   "source": [
    "def get_duration(time_string):\n",
    "    '''Converts a string representing a duration of time to an integer of that duration in \n",
    "    minutes.\n",
    "    '''\n",
    "    time_string = time_string.split()\n",
    "    duration = 0\n",
    "    for i, term in enumerate(time_string):\n",
    "        if term == 'hr':\n",
    "            duration += 60 * int(time_string[i-1])\n",
    "        if term == 'min':\n",
    "            duration += int(time_string[i-1])\n",
    "    if duration == 0:\n",
    "        duration = np.nan\n",
    "    return duration"
   ]
  },
  {
   "cell_type": "markdown",
   "metadata": {},
   "source": [
    "#2. Implementation"
   ]
  },
  {
   "cell_type": "code",
   "execution_count": null,
   "metadata": {
    "collapsed": true
   },
   "outputs": [],
   "source": [
    "celebrity_recipes.drop()\n",
    "\n",
    "for pik in tqdm(barrel):\n",
    "    with open(pik, 'r') as picklefile: \n",
    "        info = pickle.load(picklefile)\n",
    "    for title, recipe in info.values()[0].items():\n",
    "        recipe['chef'] = info.keys()[0]\n",
    "        recipe['title'] = title\n",
    "        recipe['ingredients'] = scrub_ingredients(recipe['ingredients'])\n",
    "        recipe['cook_time'] = get_duration(recipe['cook_time'])\n",
    "        recipe['inactive_time'] = get_duration(recipe['inactive_time'])\n",
    "        recipe['prep_time'] = get_duration(recipe['prep_time'])\n",
    "        recipe['total_time'] = get_duration(recipe['total_time'])\n",
    "        celebrity_recipes.save(recipe)"
   ]
  },
  {
   "cell_type": "code",
   "execution_count": null,
   "metadata": {
    "collapsed": true
   },
   "outputs": [],
   "source": [
    "nopic = 0\n",
    "for pik in tqdm(barrel):\n",
    "    with open(pik, 'r') as picklefile: \n",
    "        info = pickle.load(picklefile)\n",
    "    for title, recipe in info.values()[0].items():\n",
    "        entry = {}\n",
    "        entry['chef'] = info.keys()[0]\n",
    "        entry['title'] = title\n",
    "        entry['categories'] = recipe['categories']\n",
    "        try:\n",
    "            entry['img_link'] = recipe['img_link']\n",
    "        except:\n",
    "            entry['img_link'] = 'Image Unavailable'\n",
    "            nopic += 1\n",
    "        entry['page_link'] = recipe['page_link']\n",
    "        recipe_links.save(entry)"
   ]
  }
 ],
 "metadata": {
  "kernelspec": {
   "display_name": "Python 2",
   "language": "python",
   "name": "python2"
  },
  "language_info": {
   "codemirror_mode": {
    "name": "ipython",
    "version": 2
   },
   "file_extension": ".py",
   "mimetype": "text/x-python",
   "name": "python",
   "nbconvert_exporter": "python",
   "pygments_lexer": "ipython2",
   "version": "2.7.11"
  }
 },
 "nbformat": 4,
 "nbformat_minor": 0
}
