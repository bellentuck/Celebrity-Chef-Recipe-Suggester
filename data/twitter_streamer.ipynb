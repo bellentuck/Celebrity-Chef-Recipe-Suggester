{
 "cells": [
  {
   "cell_type": "markdown",
   "metadata": {},
   "source": [
    "A notebook for gathering celebrity chef Tweet data via the Twitter streaming API."
   ]
  },
  {
   "cell_type": "markdown",
   "metadata": {},
   "source": [
    "#0. Setup"
   ]
  },
  {
   "cell_type": "code",
   "execution_count": 1,
   "metadata": {
    "collapsed": true
   },
   "outputs": [],
   "source": [
    "import sys\n",
    "import json\n",
    "import pandas as pd\n",
    "import datetime\n",
    "from requests_oauthlib import OAuth1\n",
    "import tweepy\n",
    "from pymongo import MongoClient\n",
    "import requests.packages.urllib3\n",
    "import logging"
   ]
  },
  {
   "cell_type": "code",
   "execution_count": 2,
   "metadata": {
    "collapsed": true
   },
   "outputs": [],
   "source": [
    "auth = tweepy.OAuthHandler(config[\"consumer_key\"],\n",
    "                           config[\"consumer_secret\"])\n",
    "auth.set_access_token(config[\"access_token\"],\n",
    "                      config[\"access_token_secret\"])\n",
    "api=tweepy.API(auth)"
   ]
  },
  {
   "cell_type": "code",
   "execution_count": 3,
   "metadata": {
    "collapsed": true
   },
   "outputs": [],
   "source": [
    "consumer_key = 'DMJRylOrHbiPEynF50H7UjEUN'\n",
    "consumer_secret = 'CHIjVykOmxN41aZoAA6awiRszB9eue1gZbCYdsHrrXPlRlK938'\n",
    "access_token = '4718966085-gAePUTbz8oAQjh0KufOo9JnAe6Dp90aWvPQzHIe'\n",
    "access_token_secret = '8Fy7p1nfQaGC5VQgzBzL6FfNusejzHjkR1elhv2JrFpix'"
   ]
  },
  {
   "cell_type": "code",
   "execution_count": 4,
   "metadata": {
    "collapsed": true
   },
   "outputs": [],
   "source": [
    "chefs_and_handles = {\n",
    "    'Valerie Bertinelli': 'Wolfiesmom',\n",
    "    'Ina Garten': 'inagarten',\n",
    "    'Ree Drummond': 'thepioneerwoman',\n",
    "    'Giada De Laurentiis': 'GDeLaurentiis',\n",
    "    'Trisha Yearwood': 'trishayearwood',\n",
    "    'Guy Fieri': 'GuyFieri', 'GuyFieri_ebooks'\n",
    "    'Robert Irvine': 'RobertIrvine',\n",
    "    'Alton Brown': 'altonbrown', 'AltonBrownNews'\n",
    "    'Bobby Flay': 'bflay',\n",
    "    'Duff Goldman': 'Duff_Goldman', 'DuffsCakemix'\n",
    "    'Sunny Anderson': 'SunnyAnderson',\n",
    "    'marcela-valladolid': 'chefmarcela', 'CasaMarcela'\n",
    "    }"
   ]
  },
  {
   "cell_type": "markdown",
   "metadata": {},
   "source": [
    "Twitter IDs to follow:"
   ]
  },
  {
   "cell_type": "code",
   "execution_count": 5,
   "metadata": {
    "collapsed": false
   },
   "outputs": [
    {
     "data": {
      "text/plain": [
       "'\\n@gdelaurentiis => 20661539\\n@altonbrown => 293850289\\n@trishayearwood => 7215082\\n@wolfiesmom => 33627557\\n@robertirvine => 34396691\\n@sunnyanderson => 34436704\\n@bflay => 27091468\\n@guyfieri => 27083523\\n@inagarten => 463204825\\n@thepioneerwoman => 14709355\\n@duff_goldman => 313916789\\n@guyfieri_ebooks => 603413532\\n@altonbrownnews => 36697827\\n@duffscakemix => 316881789\\n@chefmarcela => 22089893\\n@casamarcela => 1612743247\\n'"
      ]
     },
     "execution_count": 5,
     "metadata": {},
     "output_type": "execute_result"
    }
   ],
   "source": [
    "#http://tweeterid.com/\n",
    "'''\n",
    "@gdelaurentiis => 20661539\n",
    "@altonbrown => 293850289\n",
    "@trishayearwood => 7215082\n",
    "@wolfiesmom => 33627557\n",
    "@robertirvine => 34396691\n",
    "@sunnyanderson => 34436704\n",
    "@bflay => 27091468\n",
    "@guyfieri => 27083523\n",
    "@inagarten => 463204825\n",
    "@thepioneerwoman => 14709355\n",
    "@duff_goldman => 313916789\n",
    "@guyfieri_ebooks => 603413532\n",
    "@altonbrownnews => 36697827\n",
    "@duffscakemix => 316881789\n",
    "@chefmarcela => 22089893\n",
    "@casamarcela => 1612743247\n",
    "'''"
   ]
  },
  {
   "cell_type": "markdown",
   "metadata": {},
   "source": [
    "#1. Implementation (run on ec2 via Nohup)"
   ]
  },
  {
   "cell_type": "code",
   "execution_count": 6,
   "metadata": {
    "collapsed": true
   },
   "outputs": [],
   "source": [
    "requests.packages.urllib3.disable_warnings() # Disable requests warning messages\n",
    "\n",
    "urllib3_logger = logging.getLogger('urllib3')\n",
    "urllib3_logger.setLevel(logging.CRITICAL)\n",
    "\n",
    "logger = logging.getLogger('project_kojak')\n",
    "hdlr = logging.FileHandler('/home/ben/kojak/kojak_status.log')\n",
    "formatter = logging.Formatter('%(asctime)s %(levelname)s %(message)s')\n",
    "hdlr.setFormatter(formatter)\n",
    "logger.addHandler(hdlr)\n",
    "logger.setLevel(logging.INFO)\n",
    "\n",
    "# Twitter account key data from twitter_config file\n",
    "consumer_key = 'DMJRylOrHbiPEynF50H7UjEUN'\n",
    "consumer_secret = 'CHIjVykOmxN41aZoAA6awiRszB9eue1gZbCYdsHrrXPlRlK938'\n",
    "access_token = '4718966085-gAePUTbz8oAQjh0KufOo9JnAe6Dp90aWvPQzHIe'\n",
    "access_token_secret = '8Fy7p1nfQaGC5VQgzBzL6FfNusejzHjkR1elhv2JrFpix'\n",
    "\n",
    "\"\"\"\n",
    "Modify the tweepy StreamListener class to provide additional functionality.\n",
    "Every time the stream receives data it will connect to MongoDB, iniate a\n",
    "MongoDB database, write the data to a json file and and insert the json file into\n",
    "a collection in the the database.\n",
    "\"\"\"\n",
    "class StreamListener(tweepy.StreamListener):\n",
    "    \"\"\"\n",
    "    tweepy.StreamListener is a class provided by tweepy used to access\n",
    "    the Twitter Streaming API. It allows us to retrieve tweets in real time.\n",
    "    \"\"\"\n",
    "    def on_connect(self):\n",
    "        \"\"\"Called when the connection is made\"\"\"\n",
    "        #timestr = strftime(\"%Y-%m-%d %H:%M:%S\", localtime())\n",
    "        #print(timestr)\n",
    "        #print(\"You're connected to the Twitter streaming server...Ctrl-C to stop the stream\")\n",
    "        logger.info(\"Connected to the Twitter streaming service\")\n",
    "\n",
    "    def on_error(self, status_code):\n",
    "        \"\"\"This is called when an error occurs\"\"\"\n",
    "        #timestr = strftime(\"%Y-%m-%d %H:%M:%S\", localtime())\n",
    "        #print(timestr)\n",
    "        #print('Error: ' + repr(status_code), 'stream disconnected')\n",
    "        logger.error(repr(status_code), \"Stream disconnected\")\n",
    "        return False\n",
    "\n",
    "    def on_data(self, data):\n",
    "        \"\"\"This will be called each time we receive stream data\"\"\"\n",
    "        client = MongoClient('localhost', 27017)\n",
    "\n",
    "        # Use kojak database\n",
    "        db = client.kojak\n",
    "\n",
    "        # Decode JSON\n",
    "        datajson = json.loads(data)\n",
    "\n",
    "        # We only want to store tweets in English\n",
    "        if 'lang' in datajson and datajson['lang'] == 'en':\n",
    "            # Store tweet info into the oscartweets collection.\n",
    "            db.cheftweets.insert(datajson)\n",
    "\n",
    "\n",
    "if __name__ == '__main__':\n",
    "    try:\n",
    "        # Authenticating\n",
    "        auth1 = tweepy.OAuthHandler(consumer_key, consumer_secret)\n",
    "        auth1.set_access_token(access_token, access_token_secret)\n",
    "\n",
    "        # Start the stream\n",
    "        my_listener = StreamListener(api=tweepy.API(wait_on_rate_limit=True))\n",
    "        streamer = tweepy.Stream(auth=auth1, listener=my_listener)\n",
    "\n",
    "        # Filter the Twitter stream to capture only tweets related to the chefs\n",
    "        #streamer.filter(track=chefs_and_handles.values())\n",
    "        streamer.filter(follow=['20661539', '293850289', '7215082', '33627557', '34396691', \n",
    "                                '34436704', '27091468', '27083523', '463204825', '14709355', \n",
    "                                '313916789', '603413532', '36697827', '316881789',\n",
    "                                '22089893', '36980342', '1612743247'])\n",
    "\n",
    "    except KeyboardInterrupt:\n",
    "        logger.info(\"Interrupt received...stopping stream\")\n",
    "        sys.exit()"
   ]
  }
 ],
 "metadata": {
  "kernelspec": {
   "display_name": "Python 2",
   "language": "python",
   "name": "python2"
  },
  "language_info": {
   "codemirror_mode": {
    "name": "ipython",
    "version": 2
   },
   "file_extension": ".py",
   "mimetype": "text/x-python",
   "name": "python",
   "nbconvert_exporter": "python",
   "pygments_lexer": "ipython2",
   "version": "2.7.11"
  }
 },
 "nbformat": 4,
 "nbformat_minor": 0
}
