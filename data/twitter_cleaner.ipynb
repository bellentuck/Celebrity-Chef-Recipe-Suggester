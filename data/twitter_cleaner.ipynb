{
 "cells": [
  {
   "cell_type": "markdown",
   "metadata": {},
   "source": [
    "A notebook for cleaning celebrity chef Tweet data and putting it in a local MongoDB collection."
   ]
  },
  {
   "cell_type": "markdown",
   "metadata": {},
   "source": [
    "#0. Setup"
   ]
  },
  {
   "cell_type": "code",
   "execution_count": 215,
   "metadata": {
    "collapsed": true
   },
   "outputs": [],
   "source": [
    "import json\n",
    "from nltk.corpus import stopwords\n",
    "from collections import defaultdict\n",
    "from tqdm import tqdm\n",
    "import pymongo\n",
    "import pickle"
   ]
  },
  {
   "cell_type": "markdown",
   "metadata": {},
   "source": [
    "Load in Tweets that have been dumped into JSON from EC2 Mongo:"
   ]
  },
  {
   "cell_type": "code",
   "execution_count": 8,
   "metadata": {
    "collapsed": true
   },
   "outputs": [],
   "source": [
    "tweets_path = '/Users/Ben/ds/metis/Kojak/chefs/Data/cheftweets_so_far.json'\n",
    "tweets_data = []\n",
    "tweets_file = open(tweets_path, 'r')\n",
    "for line in tweets_file:\n",
    "    try:\n",
    "        tweet = json.loads(line)\n",
    "        tweets_data.append(tweet)\n",
    "    except:\n",
    "        continue"
   ]
  },
  {
   "cell_type": "code",
   "execution_count": 9,
   "metadata": {
    "collapsed": false
   },
   "outputs": [
    {
     "data": {
      "text/plain": [
       "16198"
      ]
     },
     "execution_count": 9,
     "metadata": {},
     "output_type": "execute_result"
    }
   ],
   "source": [
    "len(tweets_data)"
   ]
  },
  {
   "cell_type": "markdown",
   "metadata": {},
   "source": [
    "Chefs' Twitter handles:"
   ]
  },
  {
   "cell_type": "code",
   "execution_count": 157,
   "metadata": {
    "collapsed": true
   },
   "outputs": [],
   "source": [
    "handles_and_chefs = {'Wolfiesmom':'Valerie Bertinelli', 'inagarten':'Ina Garten', \n",
    "                     'thepioneerwoman':'Ree Drummond', 'GDeLaurentiis':'Giada De Laurentiis',\n",
    "                     'trishayearwood':'Trisha Yearwood', 'GuyFieri':'Guy Fieri',\n",
    "                     'GuyFieri_ebooks':'Guy Fieri', 'RobertIrvine':'Robert Irvine', \n",
    "                     'altonbrown':'Alton Brown', 'AltonBrownNews':'Alton Brown', \n",
    "                     'bflay':'Bobby Flay', 'Duff_Goldman':'Duff Goldman', \n",
    "                     'DuffsCakemix':'Duff Goldman', 'SunnyAnderson':'Sunny Anderson',\n",
    "                     'chefmarcela':'Marcela Valladolid', 'CasaMarcela':'Marcela Valladolid'}\n",
    "handles = set(handles_and_chefs.keys())"
   ]
  },
  {
   "cell_type": "markdown",
   "metadata": {},
   "source": [
    "Filter out tweets that don't mention chefs' handles:"
   ]
  },
  {
   "cell_type": "code",
   "execution_count": 152,
   "metadata": {
    "collapsed": false
   },
   "outputs": [
    {
     "name": "stderr",
     "output_type": "stream",
     "text": []
    }
   ],
   "source": [
    "tweets_by_chef = defaultdict(int)\n",
    "filtered_tweets = []\n",
    "for tweet in tqdm(tweets_data):\n",
    "    mentions = set([mention['screen_name'] for mention in tweet['entities']['user_mentions']])\n",
    "    if mentions & handles != set([]):\n",
    "        tweets_by_chef[list(mentions & handles)[0]] += 1\n",
    "        filtered_tweets.append(tweet)"
   ]
  },
  {
   "cell_type": "code",
   "execution_count": 153,
   "metadata": {
    "collapsed": false
   },
   "outputs": [
    {
     "data": {
      "text/plain": [
       "13940"
      ]
     },
     "execution_count": 153,
     "metadata": {},
     "output_type": "execute_result"
    }
   ],
   "source": [
    "len(filtered_tweets)"
   ]
  },
  {
   "cell_type": "markdown",
   "metadata": {},
   "source": [
    "Local Mongo initialization:"
   ]
  },
  {
   "cell_type": "code",
   "execution_count": 188,
   "metadata": {
    "collapsed": true
   },
   "outputs": [],
   "source": [
    "client = pymongo.MongoClient()\n",
    "chefs = client.chefs_db\n",
    "tweet_collection = client.chefs_db.celebrity_tweets"
   ]
  },
  {
   "cell_type": "markdown",
   "metadata": {},
   "source": [
    "#1. Implementation\n",
    "- Document setup, including NLP for Tweet text; put docs into Mongo `tweet_collection`\n",
    "- Track capitalized words qua `terms` associated with each chef"
   ]
  },
  {
   "cell_type": "code",
   "execution_count": 219,
   "metadata": {
    "collapsed": false
   },
   "outputs": [
    {
     "name": "stderr",
     "output_type": "stream",
     "text": []
    }
   ],
   "source": [
    "tweet_collection.drop()\n",
    "stops = stopwords.words('english')\n",
    "\n",
    "for tweet in tqdm(filtered_tweets):\n",
    "    doc = {}\n",
    "    doc['hashtags'] = [hashtag['text'] for hashtag in tweet['entities']['hashtags']]\n",
    "    chef = handles_and_chefs[[mention['screen_name'] \n",
    "                              for mention in tweet['entities']['user_mentions']\n",
    "                              if mention['screen_name'] in handles][0]]\n",
    "    doc['chef'] = chef\n",
    "    text = tweet['text']\n",
    "    doc['terms'] = []\n",
    "    for word in text.split():\n",
    "        if word[0] != word[0].lower():\n",
    "            doc['terms'].append(word)\n",
    "            #terms[chef][word] += 1       \n",
    "    text = text.lower().split()\n",
    "    words = [word for word in text if '@' not in word and '#' not in word \n",
    "             and 'https://' not in word and 'rt' not in word and word not in stops]\n",
    "    words = ' '.join(words)\n",
    "    doc['tweet'] = words\n",
    "    \n",
    "    tweet_collection.save(doc)"
   ]
  },
  {
   "cell_type": "code",
   "execution_count": 220,
   "metadata": {
    "collapsed": false
   },
   "outputs": [
    {
     "name": "stdout",
     "output_type": "stream",
     "text": [
      "Count of number of tweets: 13940\n"
     ]
    }
   ],
   "source": [
    "print \"Count of number of tweets:\", tweet_collection.count()"
   ]
  },
  {
   "cell_type": "code",
   "execution_count": 223,
   "metadata": {
    "collapsed": false
   },
   "outputs": [
    {
     "data": {
      "text/plain": [
       "{u'_id': ObjectId('56eef84bfdb32c01761b1bcc'),\n",
       " u'chef': u'Trisha Yearwood',\n",
       " u'hashtags': [u'ThePassionLive'],\n",
       " u'terms': [u'RT', u'Christian', u'Lifehouse'],\n",
       " u'tweet': u'makes first christian appearance lifehouse cover'}"
      ]
     },
     "execution_count": 223,
     "metadata": {},
     "output_type": "execute_result"
    }
   ],
   "source": [
    "tweet_collection.find_one()"
   ]
  }
 ],
 "metadata": {
  "kernelspec": {
   "display_name": "Python 2",
   "language": "python",
   "name": "python2"
  },
  "language_info": {
   "codemirror_mode": {
    "name": "ipython",
    "version": 2
   },
   "file_extension": ".py",
   "mimetype": "text/x-python",
   "name": "python",
   "nbconvert_exporter": "python",
   "pygments_lexer": "ipython2",
   "version": "2.7.11"
  }
 },
 "nbformat": 4,
 "nbformat_minor": 0
}
