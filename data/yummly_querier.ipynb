{
 "cells": [
  {
   "cell_type": "markdown",
   "metadata": {},
   "source": [
    "A notebook for gathering non-celebrity-chef recipe data via the Yummly rest API."
   ]
  },
  {
   "cell_type": "markdown",
   "metadata": {},
   "source": [
    "#0. Setup"
   ]
  },
  {
   "cell_type": "code",
   "execution_count": 1,
   "metadata": {
    "collapsed": true
   },
   "outputs": [],
   "source": [
    "from nltk.stem import WordNetLemmatizer\n",
    "import pymongo\n",
    "import requests\n",
    "from tqdm import tqdm\n",
    "import pickle\n",
    "import caffeine\n",
    "import requests"
   ]
  },
  {
   "cell_type": "code",
   "execution_count": 2,
   "metadata": {
    "collapsed": false
   },
   "outputs": [],
   "source": [
    "client = pymongo.MongoClient()\n",
    "chefs = client.chefs_db\n",
    "celebrity_recipes = client.chefs_db.celebrity_recipes\n",
    "yummly_recipes = client.chefs_db.yummly_recipes\n",
    "yummly_recipes2 = client.chefs_db.yummly_recipes2\n",
    "yummly_recipes3 = client.chefs_db.yummly_recipes3"
   ]
  },
  {
   "cell_type": "markdown",
   "metadata": {},
   "source": [
    "#1. NLP"
   ]
  },
  {
   "cell_type": "markdown",
   "metadata": {},
   "source": [
    "Stopwords:"
   ]
  },
  {
   "cell_type": "code",
   "execution_count": 3,
   "metadata": {
    "collapsed": true
   },
   "outputs": [],
   "source": [
    "specs = ['dash', 'pinch', 'teaspoon', 'tablespoon', 'cup', 'scoop', 'pound', 'ounce', 'oz', \n",
    "         'quart', 'pint', 'gallon', 'milliliter', 'ml', 'liter', 'small', 'medium', 'large', \n",
    "         'freshly', 'ground', 'piece', 'clove', 'boneless', 'cube', 'dice', 'finely', \n",
    "         'grated', 'to', 'inch', 'each', 'whole', 'about', 'as', 'thawed', 'by', 'all', 'a',\n",
    "         'chopped', 'crushed', 'plus', 'minus', 'such', 'the', 'an', 'slice', 'approximately',\n",
    "         'and', 'or', 'weight', 'of', 'recipe', 'basic', 'slab', 'stick', 'pure', 'melt',\n",
    "         'melted'] "
   ]
  },
  {
   "cell_type": "markdown",
   "metadata": {},
   "source": [
    "Helper function to parse title and scrubbed ingredients from a given JSON recipe document:"
   ]
  },
  {
   "cell_type": "code",
   "execution_count": 4,
   "metadata": {
    "collapsed": false
   },
   "outputs": [],
   "source": [
    "def parse_recipe(recipe):\n",
    "    # Title:\n",
    "    title = recipe['recipeName'].encode('utf-8')\n",
    "    # Ingredients:\n",
    "    lemmatized = [WordNetLemmatizer().lemmatize(\n",
    "                   ingredient.encode('ascii', 'ignore').decode('latin-1')) \n",
    "                   for ingredient in recipe['ingredients']]\n",
    "    split = [ingredient.split() for ingredient in lemmatized]\n",
    "    stemmed = [[i.encode('utf-8') for i in line if i not in specs] for line in split]\n",
    "    ingredients = [' '.join(ingredient) for ingredient in stemmed]\n",
    "    # Flavors:\n",
    "    flavors = recipe['flavors']\n",
    "    return title, ingredients, flavors"
   ]
  },
  {
   "cell_type": "markdown",
   "metadata": {},
   "source": [
    "An example:"
   ]
  },
  {
   "cell_type": "code",
   "execution_count": 5,
   "metadata": {
    "collapsed": false
   },
   "outputs": [],
   "source": [
    "#unpickling\n",
    "with open('yummly_sample.pkl', 'r') as picklefile: \n",
    "    sample = pickle.load(picklefile)"
   ]
  },
  {
   "cell_type": "code",
   "execution_count": 9,
   "metadata": {
    "collapsed": true
   },
   "outputs": [],
   "source": [
    "example = {u'attributes': {u'course': [u'Breads']},\n",
    "   u'flavors': {u'bitter': 0.6666666666666666,\n",
    "    u'meaty': 0.3333333333333333,\n",
    "    u'piquant': 0.0,\n",
    "    u'salty': 1.0,\n",
    "    u'sour': 0.6666666666666666,\n",
    "    u'sweet': 0.8333333333333334},\n",
    "   u'id': u'Beer-bread-369136',\n",
    "   u'imageUrlsBySize': {u'90': u'http://lh4.ggpht.com/XOlUW2enMRRVKfzFY1IP0uu5TnmDXj7XOMsIH-U_PA_sFOMLKP1qswyYvo-rzpFvAwa8AB48Ds74Mws52j0B=s90-c'},\n",
    "   u'ingredients': [u'self rising flour',\n",
    "    u'sugar',\n",
    "    u'kosher salt',\n",
    "    u'beer',\n",
    "    u'melted butter'],\n",
    "   u'rating': 5,\n",
    "   u'recipeName': u'Beer Bread',\n",
    "   u'smallImageUrls': [u'http://lh3.ggpht.com/YgheDnFweX-4mE5zILhtZB20AhSvfrl6j8fdwN3KJK6P7WIR9hJyFzz0a_SYtFDQ3Dku327VhVRGYfIJpuat02Y=s90'],\n",
    "   u'sourceDisplayName': u'My Baking Addiction',\n",
    "   u'totalTimeInSeconds': 4200}"
   ]
  },
  {
   "cell_type": "code",
   "execution_count": 11,
   "metadata": {
    "collapsed": false
   },
   "outputs": [
    {
     "name": "stdout",
     "output_type": "stream",
     "text": [
      "Beer Bread\n",
      "['self rising flour', 'sugar', 'kosher salt', 'beer', 'butter']\n",
      "{u'piquant': 0.0, u'sour': 0.6666666666666666, u'salty': 1.0, u'sweet': 0.8333333333333334, u'bitter': 0.6666666666666666, u'meaty': 0.3333333333333333}\n"
     ]
    }
   ],
   "source": [
    "title, ingredients, flavors = parse_recipe(example)\n",
    "print title\n",
    "print ingredients\n",
    "print flavors"
   ]
  },
  {
   "cell_type": "markdown",
   "metadata": {},
   "source": [
    "#2. Querying\n",
    "Setup: get recipe title to search for and tie each recipe to its corresponding chef."
   ]
  },
  {
   "cell_type": "code",
   "execution_count": 7,
   "metadata": {
    "collapsed": false
   },
   "outputs": [],
   "source": [
    "titles_and_chefs = []\n",
    "for recipe in celebrity_recipes.find({}, {\"title\": 1, \"chef\": 1}):\n",
    "    titles_and_chefs.append((recipe[\"chef\"], recipe[\"title\"]))"
   ]
  },
  {
   "cell_type": "code",
   "execution_count": 8,
   "metadata": {
    "collapsed": false
   },
   "outputs": [
    {
     "data": {
      "text/plain": [
       "8135"
      ]
     },
     "execution_count": 8,
     "metadata": {},
     "output_type": "execute_result"
    }
   ],
   "source": [
    "len(titles_and_chefs)"
   ]
  },
  {
   "cell_type": "markdown",
   "metadata": {},
   "source": [
    "The process:\n",
    "\n",
    "1. For every celebrity chef recipe, make a call to the Yummly API for 400 recipes with the recipe title as the search term.\n",
    "\n",
    "2. For each recipe returned, parse out the title and ingredients.\n",
    "\n",
    "3. Make a dictionary of (a) Yummly recipe title, (b) Yummly recipe ingredients, (c) corresponding celebrity chef dish title, and (d) name of that celebrity chef.\n",
    "\n",
    "4. Insert the dictionary as a document in the `yummly_recipes` collection.\n",
    "\n",
    "**N.B., this process will take 2-2.5 hours to run.** So, we `import caffeine` to keep the computer from sleeping. When we're done, `caffeine.off()` will take things back to normal."
   ]
  },
  {
   "cell_type": "code",
   "execution_count": 6,
   "metadata": {
    "collapsed": false,
    "scrolled": true
   },
   "outputs": [],
   "source": [
    "errorcount = 0\n",
    "for chef, title in tqdm(titles_and_chefs): \n",
    "    #first, check if the title's in mongo; if not, download from the API \n",
    "    count = yummly_recipes3.find({\"celebrity_recipe\":title}).count()\n",
    "    if count == 0:\n",
    "        try:\n",
    "            search_term = title.replace(' ', '+')\n",
    "            yummly_data = requests.get('http://api.yummly.com/v1/api/recipes?_app_id=fd0752d7&_app_key=\\\n",
    "c2b47c97e29091d99a7d02d5861c9e27&q=' + search_term + '&maxResult=400&start=2') \n",
    "            json = yummly_data.json()\n",
    "            for recipe in json.values()[0]: \n",
    "                yummly_title, ingredients, flavors = parse_recipe(recipe)\n",
    "                document = {'yummly_recipe': yummly_title, 'yummly_ingredients': ingredients, \n",
    "                            'celebrity_recipe': title, 'chef': chef, 'flavors': flavors}\n",
    "                yummly_recipes3.save(document)\n",
    "        except:\n",
    "            errorcount += 1 \n",
    "            print chef, title, errorcount"
   ]
  },
  {
   "cell_type": "code",
   "execution_count": 10,
   "metadata": {
    "collapsed": true
   },
   "outputs": [],
   "source": [
    "caffeine.off()"
   ]
  }
 ],
 "metadata": {
  "kernelspec": {
   "display_name": "Python 2",
   "language": "python",
   "name": "python2"
  },
  "language_info": {
   "codemirror_mode": {
    "name": "ipython",
    "version": 2
   },
   "file_extension": ".py",
   "mimetype": "text/x-python",
   "name": "python",
   "nbconvert_exporter": "python",
   "pygments_lexer": "ipython2",
   "version": "2.7.11"
  }
 },
 "nbformat": 4,
 "nbformat_minor": 0
}
