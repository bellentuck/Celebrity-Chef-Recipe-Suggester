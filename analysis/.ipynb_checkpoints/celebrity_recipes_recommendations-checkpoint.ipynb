{
 "cells": [
  {
   "cell_type": "markdown",
   "metadata": {},
   "source": [
    "A notebook for making recipe recommendations based on what ingredients you have/want to use, as well as basic statistical parameters, using word2vec and cosine similarity between lists of ingredients (as constrained by the other parameters)."
   ]
  },
  {
   "cell_type": "markdown",
   "metadata": {},
   "source": [
    "#0. Setup"
   ]
  },
  {
   "cell_type": "code",
   "execution_count": 102,
   "metadata": {
    "collapsed": true
   },
   "outputs": [],
   "source": [
    "import pymongo\n",
    "import pickle\n",
    "import pandas as pd\n",
    "import numpy as np\n",
    "from gensim.models import Word2Vec\n",
    "from operator import itemgetter\n",
    "from tqdm import tqdm\n",
    "from bson.json_util import dumps"
   ]
  },
  {
   "cell_type": "code",
   "execution_count": 2,
   "metadata": {
    "collapsed": true
   },
   "outputs": [],
   "source": [
    "client = pymongo.MongoClient()\n",
    "chefs = client.chefs_db\n",
    "celebrity_recipes = client.chefs_db.celebrity_recipes"
   ]
  },
  {
   "cell_type": "code",
   "execution_count": 3,
   "metadata": {
    "collapsed": true
   },
   "outputs": [],
   "source": [
    "with open('word2vec_ingredients.pkl', 'r') as picklefile: \n",
    "    w2v_model = pickle.load(picklefile)"
   ]
  },
  {
   "cell_type": "markdown",
   "metadata": {},
   "source": [
    "#1. Inputs \n",
    "\n",
    "1. **What Are Our Ingredients?** Input what ingredients you'd like to incorporate.\n",
    "2. **Who Are Our Competitors?** Select who you'd like to present dishes for consideration (\"All\" for all chefs).\n",
    "3. **Which Course Are We Par For?** Select \"Starters\", \"Mains\", \"Desserts\", or \"Any\".\n",
    "4. **What Is Our Time Constraint?** Optionally, input a desired recipe time limit (in minutes).\n",
    "5. **Want to Go Simple or Complex?** Select \"Simple, \"Complex, or \"Either\"."
   ]
  },
  {
   "cell_type": "code",
   "execution_count": 23,
   "metadata": {
    "collapsed": false
   },
   "outputs": [],
   "source": [
    "##1.\n",
    "ingredients = []\n",
    "ingredient = 'Garam Masala'\n",
    "try:\n",
    "    ingredient = ingredient.lower()\n",
    "    w2v_model[ingredient]\n",
    "    ingredients.append(ingredient)\n",
    "except:\n",
    "    print 'Please try again:', ingredient, 'is not a recognized ingredient.'"
   ]
  },
  {
   "cell_type": "code",
   "execution_count": 46,
   "metadata": {
    "collapsed": true
   },
   "outputs": [],
   "source": [
    "##2.\n",
    "competitors = []\n",
    "chef = 'All'\n",
    "competitors.append(chef)\n",
    "\n",
    "##Meet Our Stars:\n",
    "# 'Ree Drummond', 'Marcela Valladolid',  'Sunny Anderson', 'Trisha Yearwood',\n",
    "# 'Valerie Bertinelli', 'Ina Garten', 'Giada De Laurentiis', 'Guy Fieri', \n",
    "# 'Bobby Flay', 'Alton Brown', 'Robert Irvine',  'Duff Goldman'"
   ]
  },
  {
   "cell_type": "code",
   "execution_count": 57,
   "metadata": {
    "collapsed": true
   },
   "outputs": [],
   "source": [
    "##3.\n",
    "course = ''\n",
    "course = 'Desserts'"
   ]
  },
  {
   "cell_type": "code",
   "execution_count": 26,
   "metadata": {
    "collapsed": true
   },
   "outputs": [],
   "source": [
    "##4.\n",
    "duration = np.nan\n",
    "duration = 60"
   ]
  },
  {
   "cell_type": "code",
   "execution_count": 27,
   "metadata": {
    "collapsed": true
   },
   "outputs": [],
   "source": [
    "##5. \n",
    "simp_comp = ''\n",
    "simp_comp = 'Either'"
   ]
  },
  {
   "cell_type": "code",
   "execution_count": null,
   "metadata": {
    "collapsed": true
   },
   "outputs": [],
   "source": [
    "if ingredients == []:\n",
    "    print 'Please enter at least one ingredient.'\n",
    "if competitors == []:\n",
    "    print 'Please select either one or more chefs, or \"All\".'\n",
    "if course == '':\n",
    "    print 'Please select \"Starters\", \"Mains\", \"Desserts\", or \"Any\".'\n",
    "if simp_comp == '':\n",
    "    print 'Please select \"Simple\", \"Complex\", or \"Either\".'"
   ]
  },
  {
   "cell_type": "markdown",
   "metadata": {},
   "source": [
    "#2. Computation"
   ]
  },
  {
   "cell_type": "code",
   "execution_count": 58,
   "metadata": {
    "collapsed": false
   },
   "outputs": [
    {
     "name": "stderr",
     "output_type": "stream",
     "text": []
    }
   ],
   "source": [
    "c_scores = []\n",
    "for recipe in tqdm(celebrity_recipes.find()):\n",
    "    #I. Filtering Down\n",
    "    if competitors[0] != 'All' and recipe['chef'] not in competitors:\n",
    "        continue\n",
    "    try:\n",
    "        if course != 'Any' and course != recipe['course']:\n",
    "            continue\n",
    "    except:\n",
    "        continue\n",
    "    if type(duration) == int:\n",
    "        try:\n",
    "            time = int(recipe['total_time'])\n",
    "            if duration < time:\n",
    "                continue\n",
    "        except:\n",
    "            continue\n",
    "    if simp_comp == 'Simple' and recipe['difficulty_level'] != 'Easy':\n",
    "        continue\n",
    "    if simp_comp == 'Complex' and recipe['difficulty_level'] == 'Easy':\n",
    "        continue\n",
    "    #II. Scoring\n",
    "    cosine = w2v_model.n_similarity(recipe['ingredients'], ingredients)\n",
    "    if type(cosine) == np.float64:\n",
    "        try:\n",
    "            c_scores.append((recipe['chef'], recipe['title'], recipe['total_time'], cosine, \n",
    "                             recipe['page_link'], recipe['img_link'], recipe['ingredients']))\n",
    "        except:\n",
    "            continue\n",
    "c_scores = sorted(c_scores, key=itemgetter(3), reverse=True)\n",
    "top_scores = pd.DataFrame(columns=['Chef', 'Recipe', 'Time', 'Cosine Score', 'Link', 'Picture',\n",
    "                                   'Recipe Ingredients', 'Will Your Ingredients Blend?'])"
   ]
  },
  {
   "cell_type": "markdown",
   "metadata": {},
   "source": [
    "#3. Outputs"
   ]
  },
  {
   "cell_type": "code",
   "execution_count": null,
   "metadata": {
    "collapsed": true
   },
   "outputs": [],
   "source": [
    "##Top-n Style##\n",
    "\n",
    "n=10\n",
    "count = 0\n",
    "while count < n:\n",
    "    if c_scores[count][3] > .7:\n",
    "        answer = 'Yes!'\n",
    "    elif .6 < c_scores[count][3] <= .7:\n",
    "        answer = 'Sure.'\n",
    "    elif .4 < c_scores[count][3] <= .6:\n",
    "        answer = 'Why not?'\n",
    "    else:\n",
    "        answer = \"...It's an experiment.\"\n",
    "    chef_df = pd.DataFrame({'Chef':c_scores[count][0], 'Recipe':c_scores[count][1], \n",
    "                            'Time':c_scores[count][2], 'Cosine Score':[c_scores[count][3]], \n",
    "                            'Link':c_scores[count][4], 'Picture':c_scores[count][5],\n",
    "                            'Recipe Ingredients':[c_scores[count][6]], \n",
    "                            'Will Your Ingredients Blend?':answer})\n",
    "    chef_df.index = [count+1]\n",
    "    top_scores = top_scores.append(chef_df)\n",
    "    count += 1\n",
    "print ingredients\n",
    "top_scores"
   ]
  },
  {
   "cell_type": "code",
   "execution_count": 59,
   "metadata": {
    "collapsed": false,
    "scrolled": true
   },
   "outputs": [
    {
     "name": "stdout",
     "output_type": "stream",
     "text": [
      "['garam masala']\n"
     ]
    },
    {
     "data": {
      "text/html": [
       "<div>\n",
       "<table border=\"1\" class=\"dataframe\">\n",
       "  <thead>\n",
       "    <tr style=\"text-align: right;\">\n",
       "      <th></th>\n",
       "      <th>Chef</th>\n",
       "      <th>Cosine Score</th>\n",
       "      <th>Link</th>\n",
       "      <th>Picture</th>\n",
       "      <th>Recipe</th>\n",
       "      <th>Recipe Ingredients</th>\n",
       "      <th>Time</th>\n",
       "      <th>Will Your Ingredients Blend?</th>\n",
       "    </tr>\n",
       "  </thead>\n",
       "  <tbody>\n",
       "    <tr>\n",
       "      <th>1</th>\n",
       "      <td>Giada De Laurentiis</td>\n",
       "      <td>0.325350</td>\n",
       "      <td>http://www.foodnetwork.com/recipes/giada-de-la...</td>\n",
       "      <td>http://foodnetwork.sndimg.com/content/dam/imag...</td>\n",
       "      <td>Homemade Chai Latte</td>\n",
       "      <td>[coarsely italian roast, cardamom, cinnamon, g...</td>\n",
       "      <td>15</td>\n",
       "      <td>...It's an experiment.</td>\n",
       "    </tr>\n",
       "    <tr>\n",
       "      <th>2</th>\n",
       "      <td>Alton Brown</td>\n",
       "      <td>0.302198</td>\n",
       "      <td>http://www.foodnetwork.com/recipes/alton-brown...</td>\n",
       "      <td>http://foodnetwork.sndimg.com/content/dam/imag...</td>\n",
       "      <td>Peanut Brittle</td>\n",
       "      <td>[lightly salted, cinnamon, cayenne pepper, sug...</td>\n",
       "      <td>60</td>\n",
       "      <td>...It's an experiment.</td>\n",
       "    </tr>\n",
       "    <tr>\n",
       "      <th>3</th>\n",
       "      <td>Guy Fieri</td>\n",
       "      <td>0.271037</td>\n",
       "      <td>http://www.foodnetwork.com/recipes/guy-fieri/g...</td>\n",
       "      <td>Image Unavailable</td>\n",
       "      <td>Georgia's Delight</td>\n",
       "      <td>[sprig mint, lime, ginger, simple syrup equal ...</td>\n",
       "      <td>5</td>\n",
       "      <td>...It's an experiment.</td>\n",
       "    </tr>\n",
       "    <tr>\n",
       "      <th>4</th>\n",
       "      <td>Sunny Anderson</td>\n",
       "      <td>0.267941</td>\n",
       "      <td>http://www.foodnetwork.com/recipes/sunny-ander...</td>\n",
       "      <td>Image Unavailable</td>\n",
       "      <td>Mango on a Stick</td>\n",
       "      <td>[ripe mango, lime, chili powder, salt]</td>\n",
       "      <td>57</td>\n",
       "      <td>...It's an experiment.</td>\n",
       "    </tr>\n",
       "    <tr>\n",
       "      <th>5</th>\n",
       "      <td>Bobby Flay</td>\n",
       "      <td>0.261618</td>\n",
       "      <td>http://www.foodnetwork.com/recipes/bobby-flay/...</td>\n",
       "      <td>Image Unavailable</td>\n",
       "      <td>Agua de Jamaica</td>\n",
       "      <td>[sugar depending on how sweet you like it, pee...</td>\n",
       "      <td>60</td>\n",
       "      <td>...It's an experiment.</td>\n",
       "    </tr>\n",
       "    <tr>\n",
       "      <th>6</th>\n",
       "      <td>Ina Garten</td>\n",
       "      <td>0.258596</td>\n",
       "      <td>http://www.foodnetwork.com/recipes/ina-garten/...</td>\n",
       "      <td>http://foodnetwork.sndimg.com/content/dam/imag...</td>\n",
       "      <td>Hot Mulled Cider</td>\n",
       "      <td>[apple juice apple cider, cinnamon, orange, st...</td>\n",
       "      <td>20</td>\n",
       "      <td>...It's an experiment.</td>\n",
       "    </tr>\n",
       "    <tr>\n",
       "      <th>7</th>\n",
       "      <td>Ree Drummond</td>\n",
       "      <td>0.225608</td>\n",
       "      <td>http://www.foodnetwork.com/recipes/ree-drummon...</td>\n",
       "      <td>http://images.scrippsnetworks.com/up/tp/Scripp...</td>\n",
       "      <td>Cow Patties</td>\n",
       "      <td>[melting chocolate, raisin, slivered almond, p...</td>\n",
       "      <td>15</td>\n",
       "      <td>...It's an experiment.</td>\n",
       "    </tr>\n",
       "    <tr>\n",
       "      <th>8</th>\n",
       "      <td>Marcela Valladolid</td>\n",
       "      <td>0.221857</td>\n",
       "      <td>http://www.foodnetwork.com/recipes/marcela-val...</td>\n",
       "      <td>http://images.scrippsnetworks.com/up/tp/Scripp...</td>\n",
       "      <td>Cinnamon-Sugar Crisps (\"Bunuelos\")</td>\n",
       "      <td>[sugar, cinnamon, flour tortilla]</td>\n",
       "      <td>30</td>\n",
       "      <td>...It's an experiment.</td>\n",
       "    </tr>\n",
       "    <tr>\n",
       "      <th>9</th>\n",
       "      <td>Robert Irvine</td>\n",
       "      <td>0.198015</td>\n",
       "      <td>http://www.foodnetwork.com/recipes/robert-irvi...</td>\n",
       "      <td>Image Unavailable</td>\n",
       "      <td>Sweet Milk and Corn Drink: Atole</td>\n",
       "      <td>[package frozen white corn, milk, sugar, brown...</td>\n",
       "      <td>15</td>\n",
       "      <td>...It's an experiment.</td>\n",
       "    </tr>\n",
       "    <tr>\n",
       "      <th>10</th>\n",
       "      <td>Valerie Bertinelli</td>\n",
       "      <td>0.193817</td>\n",
       "      <td>http://www.foodnetwork.com/recipes/valerie-ber...</td>\n",
       "      <td>http://foodnetwork.sndimg.com/content/dam/imag...</td>\n",
       "      <td>Cinnamon-Buttermilk Whipped Cream</td>\n",
       "      <td>[cold heavy cream, cold buttermilk, sugar, cin...</td>\n",
       "      <td>5</td>\n",
       "      <td>...It's an experiment.</td>\n",
       "    </tr>\n",
       "    <tr>\n",
       "      <th>11</th>\n",
       "      <td>Trisha Yearwood</td>\n",
       "      <td>0.151809</td>\n",
       "      <td>http://www.foodnetwork.com/recipes/trisha-year...</td>\n",
       "      <td>http://foodnetwork.sndimg.com/content/dam/imag...</td>\n",
       "      <td>Apple Dumplings</td>\n",
       "      <td>[granny smith apple, lemon, sugar,  butter, va...</td>\n",
       "      <td>55</td>\n",
       "      <td>...It's an experiment.</td>\n",
       "    </tr>\n",
       "    <tr>\n",
       "      <th>12</th>\n",
       "      <td>Duff Goldman</td>\n",
       "      <td>0.051921</td>\n",
       "      <td>http://www.foodnetwork.com/recipes/duff-goldma...</td>\n",
       "      <td>http://foodnetwork.sndimg.com/content/dam/imag...</td>\n",
       "      <td>Pumpkin Chocolate Chip Cake with Buerre Noiset...</td>\n",
       "      <td>[unsalted butter, sugar, vanilla extract, egg,...</td>\n",
       "      <td>40</td>\n",
       "      <td>...It's an experiment.</td>\n",
       "    </tr>\n",
       "  </tbody>\n",
       "</table>\n",
       "</div>"
      ],
      "text/plain": [
       "                   Chef  Cosine Score  \\\n",
       "1   Giada De Laurentiis      0.325350   \n",
       "2           Alton Brown      0.302198   \n",
       "3             Guy Fieri      0.271037   \n",
       "4        Sunny Anderson      0.267941   \n",
       "5            Bobby Flay      0.261618   \n",
       "6            Ina Garten      0.258596   \n",
       "7          Ree Drummond      0.225608   \n",
       "8    Marcela Valladolid      0.221857   \n",
       "9         Robert Irvine      0.198015   \n",
       "10   Valerie Bertinelli      0.193817   \n",
       "11      Trisha Yearwood      0.151809   \n",
       "12         Duff Goldman      0.051921   \n",
       "\n",
       "                                                 Link  \\\n",
       "1   http://www.foodnetwork.com/recipes/giada-de-la...   \n",
       "2   http://www.foodnetwork.com/recipes/alton-brown...   \n",
       "3   http://www.foodnetwork.com/recipes/guy-fieri/g...   \n",
       "4   http://www.foodnetwork.com/recipes/sunny-ander...   \n",
       "5   http://www.foodnetwork.com/recipes/bobby-flay/...   \n",
       "6   http://www.foodnetwork.com/recipes/ina-garten/...   \n",
       "7   http://www.foodnetwork.com/recipes/ree-drummon...   \n",
       "8   http://www.foodnetwork.com/recipes/marcela-val...   \n",
       "9   http://www.foodnetwork.com/recipes/robert-irvi...   \n",
       "10  http://www.foodnetwork.com/recipes/valerie-ber...   \n",
       "11  http://www.foodnetwork.com/recipes/trisha-year...   \n",
       "12  http://www.foodnetwork.com/recipes/duff-goldma...   \n",
       "\n",
       "                                              Picture  \\\n",
       "1   http://foodnetwork.sndimg.com/content/dam/imag...   \n",
       "2   http://foodnetwork.sndimg.com/content/dam/imag...   \n",
       "3                                   Image Unavailable   \n",
       "4                                   Image Unavailable   \n",
       "5                                   Image Unavailable   \n",
       "6   http://foodnetwork.sndimg.com/content/dam/imag...   \n",
       "7   http://images.scrippsnetworks.com/up/tp/Scripp...   \n",
       "8   http://images.scrippsnetworks.com/up/tp/Scripp...   \n",
       "9                                   Image Unavailable   \n",
       "10  http://foodnetwork.sndimg.com/content/dam/imag...   \n",
       "11  http://foodnetwork.sndimg.com/content/dam/imag...   \n",
       "12  http://foodnetwork.sndimg.com/content/dam/imag...   \n",
       "\n",
       "                                               Recipe  \\\n",
       "1                                 Homemade Chai Latte   \n",
       "2                                      Peanut Brittle   \n",
       "3                                   Georgia's Delight   \n",
       "4                                    Mango on a Stick   \n",
       "5                                     Agua de Jamaica   \n",
       "6                                    Hot Mulled Cider   \n",
       "7                                         Cow Patties   \n",
       "8                  Cinnamon-Sugar Crisps (\"Bunuelos\")   \n",
       "9                    Sweet Milk and Corn Drink: Atole   \n",
       "10                  Cinnamon-Buttermilk Whipped Cream   \n",
       "11                                    Apple Dumplings   \n",
       "12  Pumpkin Chocolate Chip Cake with Buerre Noiset...   \n",
       "\n",
       "                                   Recipe Ingredients  Time  \\\n",
       "1   [coarsely italian roast, cardamom, cinnamon, g...    15   \n",
       "2   [lightly salted, cinnamon, cayenne pepper, sug...    60   \n",
       "3   [sprig mint, lime, ginger, simple syrup equal ...     5   \n",
       "4              [ripe mango, lime, chili powder, salt]    57   \n",
       "5   [sugar depending on how sweet you like it, pee...    60   \n",
       "6   [apple juice apple cider, cinnamon, orange, st...    20   \n",
       "7   [melting chocolate, raisin, slivered almond, p...    15   \n",
       "8                   [sugar, cinnamon, flour tortilla]    30   \n",
       "9   [package frozen white corn, milk, sugar, brown...    15   \n",
       "10  [cold heavy cream, cold buttermilk, sugar, cin...     5   \n",
       "11  [granny smith apple, lemon, sugar,  butter, va...    55   \n",
       "12  [unsalted butter, sugar, vanilla extract, egg,...    40   \n",
       "\n",
       "   Will Your Ingredients Blend?  \n",
       "1        ...It's an experiment.  \n",
       "2        ...It's an experiment.  \n",
       "3        ...It's an experiment.  \n",
       "4        ...It's an experiment.  \n",
       "5        ...It's an experiment.  \n",
       "6        ...It's an experiment.  \n",
       "7        ...It's an experiment.  \n",
       "8        ...It's an experiment.  \n",
       "9        ...It's an experiment.  \n",
       "10       ...It's an experiment.  \n",
       "11       ...It's an experiment.  \n",
       "12       ...It's an experiment.  "
      ]
     },
     "execution_count": 59,
     "metadata": {},
     "output_type": "execute_result"
    }
   ],
   "source": [
    "##Competition Style##\n",
    "\n",
    "if competitors[0] == 'All':\n",
    "    competitor_set = set([u'Ree Drummond', u'Marcela Valladolid',  u'Sunny Anderson', \n",
    "                       u'Trisha Yearwood', u'Valerie Bertinelli', u'Ina Garten', \n",
    "                       u'Giada De Laurentiis', u'Guy Fieri', u'Bobby Flay', \n",
    "                       u'Alton Brown', u'Robert Irvine',  u'Duff Goldman'])\n",
    "else:\n",
    "    competitor_set = set(competitors)\n",
    "count = 0\n",
    "rank = 1\n",
    "used_chefs = set()\n",
    "while used_chefs != competitor_set:\n",
    "    if c_scores[count][0] not in used_chefs:\n",
    "        if c_scores[count][3] > .7:\n",
    "            answer = 'Yes!'\n",
    "        if .6 < c_scores[count][3] <= .7:\n",
    "            answer = 'Sure.'\n",
    "        elif .4 < c_scores[count][3] <= .6:\n",
    "            answer = 'Why not?'\n",
    "        else:\n",
    "            answer = \"...It's an experiment.\"\n",
    "        chef_df = pd.DataFrame({'Chef':c_scores[count][0], 'Recipe':c_scores[count][1], \n",
    "                                'Time':c_scores[count][2], 'Cosine Score':[c_scores[count][3]], \n",
    "                                'Link':c_scores[count][4], 'Picture':c_scores[count][5],\n",
    "                                'Recipe Ingredients':[c_scores[count][6]], \n",
    "                                'Will Your Ingredients Blend?':answer})\n",
    "        chef_df.index = [rank]\n",
    "        top_scores = top_scores.append(chef_df)\n",
    "        used_chefs.add(c_scores[count][0])\n",
    "        rank += 1\n",
    "        count += 1\n",
    "    else:\n",
    "        count += 1\n",
    "\n",
    "print ingredients\n",
    "top_scores"
   ]
  }
 ],
 "metadata": {
  "kernelspec": {
   "display_name": "Python 2",
   "language": "python",
   "name": "python2"
  },
  "language_info": {
   "codemirror_mode": {
    "name": "ipython",
    "version": 2
   },
   "file_extension": ".py",
   "mimetype": "text/x-python",
   "name": "python",
   "nbconvert_exporter": "python",
   "pygments_lexer": "ipython2",
   "version": "2.7.11"
  }
 },
 "nbformat": 4,
 "nbformat_minor": 0
}
