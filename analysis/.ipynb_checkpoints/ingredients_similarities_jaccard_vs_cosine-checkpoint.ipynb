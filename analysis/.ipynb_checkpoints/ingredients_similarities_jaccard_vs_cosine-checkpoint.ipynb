{
 "cells": [
  {
   "cell_type": "markdown",
   "metadata": {},
   "source": [
    "A notebook comparing the efficacy of jaccard versus cosine similarity scores for gauging similarities between recipes based on their ingredients. (Not to fully ruin the surprise, but, as we will see, cosine wins out.)"
   ]
  },
  {
   "cell_type": "markdown",
   "metadata": {},
   "source": [
    "#0. Setup"
   ]
  },
  {
   "cell_type": "code",
   "execution_count": 488,
   "metadata": {
    "collapsed": false
   },
   "outputs": [],
   "source": [
    "%matplotlib inline\n",
    "import matplotlib.pyplot as plt\n",
    "import seaborn as sns\n",
    "import pymongo\n",
    "import pandas as pd\n",
    "from tqdm import tqdm\n",
    "from gensim.models import Word2Vec\n",
    "import pickle\n",
    "from sklearn.metrics import jaccard_similarity_score\n",
    "import numpy as np\n",
    "from scipy import stats, spatial\n",
    "from collections import defaultdict\n",
    "from operator import itemgetter\n",
    "from montecarlo import montecarlo"
   ]
  },
  {
   "cell_type": "code",
   "execution_count": 2,
   "metadata": {
    "collapsed": true
   },
   "outputs": [],
   "source": [
    "client = pymongo.MongoClient()\n",
    "chefs = client.chefs_db\n",
    "celebrity_recipes = client.chefs_db.celebrity_recipes\n",
    "recipe_links = client.chefs_db.celebrity_recipe_links #more metadata-y\n",
    "\n",
    "yummly_recipes = client.chefs_db.yummly_recipes\n",
    "yummly_recipes2 = client.chefs_db.yummly_recipes2\n",
    "yummly_recipes3 = client.chefs_db.yummly_recipes3"
   ]
  },
  {
   "cell_type": "code",
   "execution_count": 11,
   "metadata": {
    "collapsed": false
   },
   "outputs": [
    {
     "data": {
      "text/plain": [
       "{u'_id': ObjectId('56ef50cffdb32c0327e5a24f'),\n",
       " u'chef': u'Giada De Laurentiis',\n",
       " u'cook_time': nan,\n",
       " u'difficulty_level': u'Easy',\n",
       " u'directions': u'nan',\n",
       " u'inactive_time': nan,\n",
       " u'ingredients': [u' butter', u'powdered sugar', u'milk', u'vanilla extract'],\n",
       " u'prep_time': 5,\n",
       " u'title': u'Vanilla Frosting',\n",
       " u'total_time': 5,\n",
       " u'yield': u'about 1 pound (enough for 12 cupcakes)'}"
      ]
     },
     "execution_count": 11,
     "metadata": {},
     "output_type": "execute_result"
    }
   ],
   "source": [
    "celebrity_recipes.find_one()"
   ]
  },
  {
   "cell_type": "code",
   "execution_count": 4,
   "metadata": {
    "collapsed": false
   },
   "outputs": [
    {
     "data": {
      "text/plain": [
       "{u'_id': ObjectId('56f046e7fdb32c06bd81ee3a'),\n",
       " u'celebrity_recipe': u'Vanilla Frosting',\n",
       " u'chef': u'Giada De Laurentiis',\n",
       " u'flavors': {u'bitter': 0.16666666666666666,\n",
       "  u'meaty': 0.8333333333333334,\n",
       "  u'piquant': 0.0,\n",
       "  u'salty': 0.16666666666666666,\n",
       "  u'sour': 0.16666666666666666,\n",
       "  u'sweet': 0.8333333333333334},\n",
       " u'yummly_ingredients': [u'vegetable shortening',\n",
       "  u'powdered sugar',\n",
       "  u'vanilla extract',\n",
       "  u'milk'],\n",
       " u'yummly_recipe': u'Vanilla Frosting'}"
      ]
     },
     "execution_count": 4,
     "metadata": {},
     "output_type": "execute_result"
    }
   ],
   "source": [
    "yummly_recipes.find_one()"
   ]
  },
  {
   "cell_type": "code",
   "execution_count": 14,
   "metadata": {
    "collapsed": true
   },
   "outputs": [],
   "source": [
    "with open('word2vec_ingredients.pkl', 'r') as picklefile: \n",
    "    w2v_model = pickle.load(picklefile)"
   ]
  },
  {
   "cell_type": "code",
   "execution_count": 10,
   "metadata": {
    "collapsed": true
   },
   "outputs": [],
   "source": [
    "chefs_and_scorefiles = {\n",
    "    'Valerie Bertinelli':'bertinelli_ingredient_scores.pkl', \n",
    "    'Ina Garten':'garten_ingredient_scores.pkl', \n",
    "    'Ree Drummond':'drummond_ingredient_scores.pkl', \n",
    "    'Giada De Laurentiis':'delaurentiis_ingredient_scores.pkl',\n",
    "    'Trisha Yearwood':'yearwood_ingredient_scores.pkl',\n",
    "    'Guy Fieri':'fieri_ingredient_scores.pkl',\n",
    "    'Robert Irvine':'irvine_ingredient_scores.pkl',\n",
    "    'Alton Brown':'brown_ingredient_scores.pkl', \n",
    "    'Bobby Flay':'flay_ingredient_scores.pkl',\n",
    "    'Duff Goldman':'goldman_ingredient_scores.pkl', \n",
    "    'Sunny Anderson':'anderson_ingredient_scores.pkl', \n",
    "    'Marcela Valladolid':'valladolid_ingredient_scores.pkl'} "
   ]
  },
  {
   "cell_type": "markdown",
   "metadata": {},
   "source": [
    "#1. Implementation\n",
    "\n",
    "To give us a sense of what works better, we're going to compare "
   ]
  },
  {
   "cell_type": "code",
   "execution_count": 7,
   "metadata": {
    "collapsed": true
   },
   "outputs": [],
   "source": [
    "scores_df = pd.DataFrame(columns=['Chef', 'Recipe', 'Jaccard Scores', 'Cosine Scores'])"
   ]
  },
  {
   "cell_type": "code",
   "execution_count": 8,
   "metadata": {
    "collapsed": false
   },
   "outputs": [
    {
     "data": {
      "text/html": [
       "<div>\n",
       "<table border=\"1\" class=\"dataframe\">\n",
       "  <thead>\n",
       "    <tr style=\"text-align: right;\">\n",
       "      <th></th>\n",
       "      <th>Chef</th>\n",
       "      <th>Recipe</th>\n",
       "      <th>Jaccard Scores</th>\n",
       "      <th>Cosine Scores</th>\n",
       "    </tr>\n",
       "  </thead>\n",
       "  <tbody>\n",
       "  </tbody>\n",
       "</table>\n",
       "</div>"
      ],
      "text/plain": [
       "Empty DataFrame\n",
       "Columns: [Chef, Recipe, Jaccard Scores, Cosine Scores]\n",
       "Index: []"
      ]
     },
     "execution_count": 8,
     "metadata": {},
     "output_type": "execute_result"
    }
   ],
   "source": [
    "scores_df"
   ]
  },
  {
   "cell_type": "code",
   "execution_count": 4,
   "metadata": {
    "collapsed": true
   },
   "outputs": [],
   "source": [
    "def compute_jaccard_index(set_1, set_2):\n",
    "    n = len(set_1.intersection(set_2))\n",
    "    return n / float(len(set_1) + len(set_2) - n) "
   ]
  },
  {
   "cell_type": "code",
   "execution_count": 15,
   "metadata": {
    "collapsed": true
   },
   "outputs": [],
   "source": [
    "def get_scores(chef, filename):\n",
    "    count = 0\n",
    "    scores_df = pd.DataFrame(columns=['Chef', 'Recipe', 'Jaccard Scores', 'Cosine Scores'])\n",
    "    \n",
    "    for chefrecipe in tqdm(celebrity_recipes.find({'chef': chef})):\n",
    "        j_scores = []\n",
    "        c_scores = []\n",
    "        for coll in [yummly_recipes, yummly_recipes2, yummly_recipes3]:\n",
    "            for otherrecipe in coll.find({'celebrity_recipe':chefrecipe['title']}):\n",
    "                jaccard = compute_jaccard_index(\n",
    "                    set(chefrecipe['ingredients']), set(otherrecipe['yummly_ingredients']))\n",
    "                j_scores.append(jaccard)\n",
    "                cosine = w2v_model.n_similarity(\n",
    "                    chefrecipe['ingredients'], otherrecipe['yummly_ingredients'])\n",
    "                c_scores.append(cosine)\n",
    "        row = pd.DataFrame({'Chef':chef, 'Recipe':chefrecipe['title'],\n",
    "                            'Jaccard Scores':[j_scores], 'Cosine Scores':[c_scores]})\n",
    "        row.index = [count]\n",
    "        scores_df = scores_df.append(row)\n",
    "        count += 1\n",
    "    \n",
    "    with open(filename, 'w') as picklefile:\n",
    "        pickle.dump(scores_df, picklefile)"
   ]
  },
  {
   "cell_type": "code",
   "execution_count": 16,
   "metadata": {
    "collapsed": false
   },
   "outputs": [
    {
     "name": "stderr",
     "output_type": "stream",
     "text": [
      "10it [00:22,  1.65s/it]/Users/Ben/anaconda/anaconda/lib/python2.7/site-packages/numpy/core/_methods.py:59: RuntimeWarning: Mean of empty slice.\n",
      "  warnings.warn(\"Mean of empty slice.\", RuntimeWarning)\n",
      "                        "
     ]
    },
    {
     "name": "stdout",
     "output_type": "stream",
     "text": [
      "Giada De Laurentiis scores pickled\n",
      "Alton Brown"
     ]
    },
    {
     "name": "stderr",
     "output_type": "stream",
     "text": [
      "                        "
     ]
    },
    {
     "name": "stdout",
     "output_type": "stream",
     "text": [
      " scores pickled\n",
      "Trisha Yearwood"
     ]
    },
    {
     "name": "stderr",
     "output_type": "stream",
     "text": [
      "                        "
     ]
    },
    {
     "name": "stdout",
     "output_type": "stream",
     "text": [
      " scores pickled\n",
      "Valerie Bertinelli"
     ]
    },
    {
     "name": "stderr",
     "output_type": "stream",
     "text": [
      "                        "
     ]
    },
    {
     "name": "stdout",
     "output_type": "stream",
     "text": [
      " scores pickled\n",
      "Marcela Valladolid"
     ]
    },
    {
     "name": "stderr",
     "output_type": "stream",
     "text": [
      "                        "
     ]
    },
    {
     "name": "stdout",
     "output_type": "stream",
     "text": [
      " scores pickled\n",
      "Robert Irvine"
     ]
    },
    {
     "name": "stderr",
     "output_type": "stream",
     "text": [
      "                        "
     ]
    },
    {
     "name": "stdout",
     "output_type": "stream",
     "text": [
      " scores pickled\n",
      "Sunny Anderson"
     ]
    },
    {
     "name": "stderr",
     "output_type": "stream",
     "text": [
      "                         "
     ]
    },
    {
     "name": "stdout",
     "output_type": "stream",
     "text": [
      " scores pickled\n",
      "Bobby Flay"
     ]
    },
    {
     "name": "stderr",
     "output_type": "stream",
     "text": [
      "                        "
     ]
    },
    {
     "name": "stdout",
     "output_type": "stream",
     "text": [
      " scores pickled\n",
      "Guy Fieri"
     ]
    },
    {
     "name": "stderr",
     "output_type": "stream",
     "text": [
      "                        "
     ]
    },
    {
     "name": "stdout",
     "output_type": "stream",
     "text": [
      " scores pickled\n",
      "Ina Garten"
     ]
    },
    {
     "name": "stderr",
     "output_type": "stream",
     "text": [
      "                          "
     ]
    },
    {
     "name": "stdout",
     "output_type": "stream",
     "text": [
      " scores pickled\n",
      "Ree Drummond"
     ]
    },
    {
     "name": "stderr",
     "output_type": "stream",
     "text": [
      "                       "
     ]
    },
    {
     "name": "stdout",
     "output_type": "stream",
     "text": [
      " scores pickled\n",
      "Duff Goldman scores pickled\n"
     ]
    },
    {
     "name": "stderr",
     "output_type": "stream",
     "text": [
      "\r"
     ]
    }
   ],
   "source": [
    "for chef, filename in chefs_and_scorefiles.items():\n",
    "    get_scores(chef, filename)\n",
    "    print chef, 'scores pickled'"
   ]
  },
  {
   "cell_type": "code",
   "execution_count": null,
   "metadata": {
    "collapsed": true
   },
   "outputs": [],
   "source": [
    "chefs_cosine_scores = {\n",
    "    'Valerie Bertinelli':'bertinelli_ingredient_scores.pkl', \n",
    "    'Ina Garten':'garten_ingredient_scores.pkl', \n",
    "    'Ree Drummond':'drummond_ingredient_scores.pkl', \n",
    "    'Giada De Laurentiis':'delaurentiis_ingredient_scores.pkl',\n",
    "    'Trisha Yearwood':'yearwood_ingredient_scores.pkl',\n",
    "    'Guy Fieri':'fieri_ingredient_scores.pkl',\n",
    "    'Robert Irvine':'irvine_ingredient_scores.pkl',\n",
    "    'Alton Brown':'brown_ingredient_scores.pkl', \n",
    "    'Bobby Flay':'flay_ingredient_scores.pkl',\n",
    "    'Duff Goldman':'goldman_ingredient_scores.pkl', \n",
    "    'Sunny Anderson':'anderson_ingredient_scores.pkl', \n",
    "    'Marcela Valladolid':'valladolid_ingredient_scores.pkl'} "
   ]
  },
  {
   "cell_type": "markdown",
   "metadata": {},
   "source": [
    "#2. Analysis"
   ]
  },
  {
   "cell_type": "code",
   "execution_count": 104,
   "metadata": {
    "collapsed": false,
    "scrolled": true
   },
   "outputs": [
    {
     "name": "stdout",
     "output_type": "stream",
     "text": [
      "Giada De Laurentiis\n",
      "cosine similarity scores\n"
     ]
    },
    {
     "data": {
      "image/png": "[encoded data removed]",
      "text/plain": [
       "<matplotlib.figure.Figure at 0x11dccd490>"
      ]
     },
     "metadata": {},
     "output_type": "display_data"
    },
    {
     "name": "stdout",
     "output_type": "stream",
     "text": [
      "jaccard similarity scores\n"
     ]
    },
    {
     "data": {
      "image/png": "[encoded data removed]",
      "text/plain": [
       "<matplotlib.figure.Figure at 0x12c032450>"
      ]
     },
     "metadata": {},
     "output_type": "display_data"
    },
    {
     "name": "stdout",
     "output_type": "stream",
     "text": [
      "Alton Brown\n",
      "cosine similarity scores\n"
     ]
    },
    {
     "data": {
      "image/png": "[encoded data removed]",
      "text/plain": [
       "<matplotlib.figure.Figure at 0x11b8666d0>"
      ]
     },
     "metadata": {},
     "output_type": "display_data"
    },
    {
     "name": "stdout",
     "output_type": "stream",
     "text": [
      "jaccard similarity scores\n"
     ]
    },
    {
     "data": {
      "image/png": "[encoded data removed]",
      "text/plain": [
       "<matplotlib.figure.Figure at 0x11f005c10>"
      ]
     },
     "metadata": {},
     "output_type": "display_data"
    },
    {
     "name": "stdout",
     "output_type": "stream",
     "text": [
      "Trisha Yearwood\n",
      "cosine similarity scores\n"
     ]
    },
    {
     "data": {
      "image/png": "[encoded data removed]",
      "text/plain": [
       "<matplotlib.figure.Figure at 0x10e1a8110>"
      ]
     },
     "metadata": {},
     "output_type": "display_data"
    },
    {
     "name": "stdout",
     "output_type": "stream",
     "text": [
      "jaccard similarity scores\n"
     ]
    },
    {
     "data": {
      "image/png": "[encoded data removed]",
      "text/plain": [
       "<matplotlib.figure.Figure at 0x11efcd5d0>"
      ]
     },
     "metadata": {},
     "output_type": "display_data"
    },
    {
     "name": "stdout",
     "output_type": "stream",
     "text": [
      "Valerie Bertinelli\n",
      "cosine similarity scores\n"
     ]
    },
    {
     "data": {
      "image/png": "[encoded data removed]",
      "text/plain": [
       "<matplotlib.figure.Figure at 0x11a714a10>"
      ]
     },
     "metadata": {},
     "output_type": "display_data"
    },
    {
     "name": "stdout",
     "output_type": "stream",
     "text": [
      "jaccard similarity scores\n"
     ]
    },
    {
     "data": {
      "image/png": "[encoded data removed]",
      "text/plain": [
       "<matplotlib.figure.Figure at 0x1214f4210>"
      ]
     },
     "metadata": {},
     "output_type": "display_data"
    },
    {
     "name": "stdout",
     "output_type": "stream",
     "text": [
      "Marcela Valladolid\n",
      "cosine similarity scores\n"
     ]
    },
    {
     "data": {
      "image/png": "[encoded data removed]",
      "text/plain": [
       "<matplotlib.figure.Figure at 0x1185216d0>"
      ]
     },
     "metadata": {},
     "output_type": "display_data"
    },
    {
     "name": "stdout",
     "output_type": "stream",
     "text": [
      "jaccard similarity scores\n"
     ]
    },
    {
     "data": {
      "image/png": "[encoded data removed]",
      "text/plain": [
       "<matplotlib.figure.Figure at 0x122f16390>"
      ]
     },
     "metadata": {},
     "output_type": "display_data"
    },
    {
     "name": "stdout",
     "output_type": "stream",
     "text": [
      "Robert Irvine\n",
      "cosine similarity scores\n"
     ]
    },
    {
     "data": {
      "image/png": "[encoded data removed]",
      "text/plain": [
       "<matplotlib.figure.Figure at 0x112d90a50>"
      ]
     },
     "metadata": {},
     "output_type": "display_data"
    },
    {
     "name": "stdout",
     "output_type": "stream",
     "text": [
      "jaccard similarity scores\n"
     ]
    },
    {
     "data": {
      "image/png": "[encoded data removed]",
      "text/plain": [
       "<matplotlib.figure.Figure at 0x11d84a310>"
      ]
     },
     "metadata": {},
     "output_type": "display_data"
    },
    {
     "name": "stdout",
     "output_type": "stream",
     "text": [
      "Sunny Anderson\n",
      "cosine similarity scores\n"
     ]
    },
    {
     "data": {
      "image/png": "[encoded data removed]",
      "text/plain": [
       "<matplotlib.figure.Figure at 0x12388df90>"
      ]
     },
     "metadata": {},
     "output_type": "display_data"
    },
    {
     "name": "stdout",
     "output_type": "stream",
     "text": [
      "jaccard similarity scores\n"
     ]
    },
    {
     "data": {
      "image/png": "[encoded data removed]",
      "text/plain": [
       "<matplotlib.figure.Figure at 0x117d15950>"
      ]
     },
     "metadata": {},
     "output_type": "display_data"
    },
    {
     "name": "stdout",
     "output_type": "stream",
     "text": [
      "Bobby Flay\n",
      "cosine similarity scores\n"
     ]
    },
    {
     "data": {
      "image/png": "[encoded data removed]",
      "text/plain": [
       "<matplotlib.figure.Figure at 0x10e8dda90>"
      ]
     },
     "metadata": {},
     "output_type": "display_data"
    },
    {
     "name": "stdout",
     "output_type": "stream",
     "text": [
      "jaccard similarity scores\n"
     ]
    },
    {
     "data": {
      "image/png": "[encoded data removed]",
      "text/plain": [
       "<matplotlib.figure.Figure at 0x12c942b10>"
      ]
     },
     "metadata": {},
     "output_type": "display_data"
    },
    {
     "name": "stdout",
     "output_type": "stream",
     "text": [
      "Guy Fieri\n",
      "cosine similarity scores\n"
     ]
    },
    {
     "data": {
      "image/png": "[encoded data removed]",
      "text/plain": [
       "<matplotlib.figure.Figure at 0x11859cd10>"
      ]
     },
     "metadata": {},
     "output_type": "display_data"
    },
    {
     "name": "stdout",
     "output_type": "stream",
     "text": [
      "jaccard similarity scores\n"
     ]
    },
    {
     "data": {
      "image/png": "[encoded data removed]",
      "text/plain": [
       "<matplotlib.figure.Figure at 0x123d3fdd0>"
      ]
     },
     "metadata": {},
     "output_type": "display_data"
    },
    {
     "name": "stdout",
     "output_type": "stream",
     "text": [
      "Ina Garten\n",
      "cosine similarity scores\n"
     ]
    },
    {
     "data": {
      "image/png": "[encoded data removed]",
      "text/plain": [
       "<matplotlib.figure.Figure at 0x111de4990>"
      ]
     },
     "metadata": {},
     "output_type": "display_data"
    },
    {
     "name": "stdout",
     "output_type": "stream",
     "text": [
      "jaccard similarity scores\n"
     ]
    },
    {
     "data": {
      "image/png": "[encoded data removed]",
      "text/plain": [
       "<matplotlib.figure.Figure at 0x12603d890>"
      ]
     },
     "metadata": {},
     "output_type": "display_data"
    },
    {
     "name": "stdout",
     "output_type": "stream",
     "text": [
      "Ree Drummond\n",
      "cosine similarity scores\n"
     ]
    },
    {
     "data": {
      "image/png": "[encoded data removed]",
      "text/plain": [
       "<matplotlib.figure.Figure at 0x11a10e490>"
      ]
     },
     "metadata": {},
     "output_type": "display_data"
    },
    {
     "name": "stdout",
     "output_type": "stream",
     "text": [
      "jaccard similarity scores\n"
     ]
    },
    {
     "data": {
      "image/png": "[encoded data removed]",
      "text/plain": [
       "<matplotlib.figure.Figure at 0x123d11110>"
      ]
     },
     "metadata": {},
     "output_type": "display_data"
    },
    {
     "name": "stdout",
     "output_type": "stream",
     "text": [
      "Duff Goldman\n",
      "cosine similarity scores\n"
     ]
    },
    {
     "data": {
      "image/png": "[encoded data removed]",
      "text/plain": [
       "<matplotlib.figure.Figure at 0x111a4a390>"
      ]
     },
     "metadata": {},
     "output_type": "display_data"
    },
    {
     "name": "stdout",
     "output_type": "stream",
     "text": [
      "jaccard similarity scores\n"
     ]
    },
    {
     "data": {
      "image/png": "[encoded data removed]",
      "text/plain": [
       "<matplotlib.figure.Figure at 0x1240deb90>"
      ]
     },
     "metadata": {},
     "output_type": "display_data"
    }
   ],
   "source": [
    "chefs_and_scores = {}\n",
    "for chef, filename in chefs_and_scorefiles.items():  \n",
    "    cosine = []\n",
    "    jaccard = []\n",
    "    with open(filename, 'r') as picklefile: \n",
    "        scores_df = pickle.load(picklefile)\n",
    "    for row in scores_df.iterrows():\n",
    "        try:\n",
    "            cosine.append(np.mean([score for score in row[1]['Cosine Scores'] \n",
    "                                    if score >= 0]))\n",
    "            jaccard.append(np.mean([score for score in row[1]['Jaccard Scores'] \n",
    "                                    if score != 0]))\n",
    "        except:\n",
    "            continue\n",
    "    cosine = [val for val in cosine if not np.isnan(val)]\n",
    "    jaccard = [val for val in jaccard if not np.isnan(val)]\n",
    "    chefs_and_scores[chef] = {'cosine':cosine, 'jaccard':jaccard}\n",
    "    print chef\n",
    "    print 'cosine similarity scores'\n",
    "    plt.hist(cosine, bins=20, range=(0, 1))\n",
    "    plt.show()\n",
    "    print 'jaccard similarity scores'\n",
    "    plt.hist(jaccard, bins=20, range=(0, .5))\n",
    "    plt.show()"
   ]
  },
  {
   "cell_type": "code",
   "execution_count": 144,
   "metadata": {
    "collapsed": true
   },
   "outputs": [],
   "source": [
    "similarity_scores_totals = {}\n",
    "for chef, scores in chefs_and_scores.items():   \n",
    "    scorecard = {}\n",
    "    c_mean = np.mean(scores['cosine'])\n",
    "    c_lower = len([score for score in scores['cosine'] if score <= .5])\n",
    "    c_lower = float(c_lower)/float(len(scores['cosine']))\n",
    "    c_upper = len([score for score in scores['cosine'] if score > .5])\n",
    "    c_upper = float(c_upper)/float(len(scores['cosine']))                                \n",
    "    j_mean = np.mean(scores['jaccard'])\n",
    "    c_median = np.median(scores['cosine'])\n",
    "    j_median = np.median(scores['jaccard'])\n",
    "    c_std = np.std(scores['cosine'])\n",
    "    j_std = np.std(scores['jaccard'])\n",
    "    cvar = np.var(scores['cosine'])\n",
    "    jvar = np.var(scores['jaccard'])\n",
    "    cskew = stats.skew(scores['cosine'])\n",
    "    jskew = stats.skew(scores['jaccard'])\n",
    "    ckurt = stats.kurtosis(scores['cosine'])\n",
    "    jkurt = stats.kurtosis(scores['jaccard']) \n",
    "    scorecard['%unique'] = round(c_lower, 2)\n",
    "    scorecard['%generic'] = round(c_upper, 2)\n",
    "    scorecard['cosine_mean'] = c_mean \n",
    "    scorecard['jaccard_mean'] = j_mean\n",
    "    scorecard['cosine_median'] = c_median\n",
    "    scorecard['jaccard_median'] = j_median\n",
    "    scorecard['cosine_std'] = c_std\n",
    "    scorecard['jaccard_std'] = j_std\n",
    "    scorecard['cosine_variance'] = cvar\n",
    "    scorecard['jaccard_variance'] = jvar\n",
    "    scorecard['cosine_skewness'] = cskew\n",
    "    scorecard['jaccard_skewness'] = jskew\n",
    "    scorecard['cosine_kurtosis'] = ckurt\n",
    "    scorecard['jaccard_kurtosis'] = jkurt\n",
    "    similarity_scores_totals[chef] = scorecard"
   ]
  },
  {
   "cell_type": "code",
   "execution_count": 149,
   "metadata": {
    "collapsed": false,
    "scrolled": true
   },
   "outputs": [
    {
     "name": "stdout",
     "output_type": "stream",
     "text": [
      "Giada De Laurentiis\n",
      "0.614733147697\n",
      "unique ingredients %: 0.29\n",
      "generic ingredients %: 0.71\n",
      "\n",
      "\n",
      "Alton Brown\n",
      "0.503994386571\n",
      "unique ingredients %: 0.49\n",
      "generic ingredients %: 0.51\n",
      "\n",
      "\n",
      "Trisha Yearwood\n",
      "0.54318849705\n",
      "unique ingredients %: 0.46\n",
      "generic ingredients %: 0.54\n",
      "\n",
      "\n",
      "Guy Fieri\n",
      "0.606657931919\n",
      "unique ingredients %: 0.31\n",
      "generic ingredients %: 0.69\n",
      "\n",
      "\n",
      "Valerie Bertinelli\n",
      "0.559900368495\n",
      "unique ingredients %: 0.38\n",
      "generic ingredients %: 0.62\n",
      "\n",
      "\n",
      "Marcela Valladolid\n",
      "0.526193861435\n",
      "unique ingredients %: 0.45\n",
      "generic ingredients %: 0.55\n",
      "\n",
      "\n",
      "Ina Garten\n",
      "0.491233490584\n",
      "unique ingredients %: 0.52\n",
      "generic ingredients %: 0.48\n",
      "\n",
      "\n",
      "Ree Drummond\n",
      "0.522255368807\n",
      "unique ingredients %: 0.46\n",
      "generic ingredients %: 0.54\n",
      "\n",
      "\n",
      "Bobby Flay\n",
      "0.680169081484\n",
      "unique ingredients %: 0.25\n",
      "generic ingredients %: 0.75\n",
      "\n",
      "\n",
      "Robert Irvine\n",
      "0.562532681931\n",
      "unique ingredients %: 0.39\n",
      "generic ingredients %: 0.61\n",
      "\n",
      "\n",
      "Sunny Anderson\n",
      "0.61833776698\n",
      "unique ingredients %: 0.31\n",
      "generic ingredients %: 0.69\n",
      "\n",
      "\n",
      "Duff Goldman\n",
      "0.623428041288\n",
      "unique ingredients %: 0.37\n",
      "generic ingredients %: 0.63\n",
      "\n",
      "\n"
     ]
    }
   ],
   "source": [
    "for chef, scores in similarity_scores_totals.items():\n",
    "    #The chance that a given dish will feature some sort of unique ingredient\n",
    "    print chef\n",
    "    #print scores\n",
    "    print scores['cosine_median']\n",
    "    print 'unique ingredients %:', scores['%unique']\n",
    "    print 'generic ingredients %:', scores['%generic']\n",
    "    print '\\n'"
   ]
  },
  {
   "cell_type": "code",
   "execution_count": null,
   "metadata": {
    "collapsed": true
   },
   "outputs": [],
   "source": [
    "##after loading in the files that are dataframes...\n",
    "\n",
    "#1-- use describe to get the stats stat (basically see where the 50% mark is, and if that's \n",
    "#below or above .5)\n",
    "#2-- for each chef, make a GRAPH of sorted averages. \n",
    "#Use %iles to see where the avgs fall over all recipes.\n",
    "#3-- bin the recipes and do topic modeling on the ingredients from the bins?\n",
    "#or the titles?? like to see what, in general, tends to be more uniquely or generically made?"
   ]
  },
  {
   "cell_type": "markdown",
   "metadata": {},
   "source": [
    "\n",
    "calculate model accuracy\n",
    "calculate cosine distances (n_similarity); compare to raw Jaccard distances from pairwise comparison across vector for each celebrity recipe\n",
    "calculate most similar ingredients to a given ingredient most_similar_cosmul(positive=[], negative=[], topn=10) to get a sense of what ingredient families a given chef likes to work in; compare to raw counts of numbers of ingredients (freq of count vec on ingredients)\n",
    "also, just randomly?, add total # of tweets and retweets into some sort of 'popularity' score?\n"
   ]
  },
  {
   "cell_type": "markdown",
   "metadata": {},
   "source": [
    "#Recommendations:"
   ]
  },
  {
   "cell_type": "markdown",
   "metadata": {},
   "source": [
    "#Exploration"
   ]
  },
  {
   "cell_type": "markdown",
   "metadata": {},
   "source": [
    "Collapse all ingredients into a chef's corpus:"
   ]
  },
  {
   "cell_type": "code",
   "execution_count": 283,
   "metadata": {
    "collapsed": false
   },
   "outputs": [],
   "source": [
    "chefs_and_ingredients = defaultdict(list)    \n",
    "for recipe in celebrity_recipes.find():\n",
    "    chefs_and_ingredients[recipe['chef']].extend(recipe['ingredients'])"
   ]
  },
  {
   "cell_type": "markdown",
   "metadata": {},
   "source": [
    "Next, model all words in the corpus and average the vectors, to get 1 avg vec per chef:"
   ]
  },
  {
   "cell_type": "code",
   "execution_count": 287,
   "metadata": {
    "collapsed": false
   },
   "outputs": [
    {
     "name": "stderr",
     "output_type": "stream",
     "text": []
    }
   ],
   "source": [
    "chefs_and_vecs = {}\n",
    "for chef, ingredients in tqdm(chefs_and_ingredients.items()):\n",
    "    chef2vec = sum([w2v_model[i] for i in ingredients])/len(ingredients)\n",
    "    chefs_and_vecs[chef] = chef2vec"
   ]
  },
  {
   "cell_type": "markdown",
   "metadata": {},
   "source": [
    "Then, come up with flavor vectors for comparison:"
   ]
  },
  {
   "cell_type": "code",
   "execution_count": 288,
   "metadata": {
    "collapsed": true
   },
   "outputs": [],
   "source": [
    "sweet = (w2v_model3['sugar'] + w2v_model3['honey'] + w2v_model3['syrup'] + w2v_model3['sweetener'])/4\n",
    "salty = w2v_model3['salt']\n",
    "sour = (w2v_model3['orange'] + w2v_model3['lemon'])/2\n",
    "spicy = w2v_model3['chile']\n",
    "savory = (w2v_model3['soy'] + w2v_model3['sauce'])/2\n",
    "flavors = {'sweet':sweet, 'salty':salty, 'sour':sour, 'spicy':spicy, 'savory':savory}"
   ]
  },
  {
   "cell_type": "markdown",
   "metadata": {},
   "source": [
    "Now, compare cosine distances between each chef's vector and each flavor vector (smaller distances meaning greater similarity):"
   ]
  },
  {
   "cell_type": "code",
   "execution_count": 289,
   "metadata": {
    "collapsed": false
   },
   "outputs": [
    {
     "name": "stderr",
     "output_type": "stream",
     "text": []
    }
   ],
   "source": [
    "chefs_and_flavors = {}\n",
    "for chef, c_vec in tqdm(chefs_and_vecs.items()):\n",
    "    profile = {}\n",
    "    for flavor, f_vec in flavors.items():\n",
    "        profile[flavor] = spatial.distance.cosine(c_vec, f_vec)\n",
    "    chefs_and_flavors[chef] = profile"
   ]
  },
  {
   "cell_type": "markdown",
   "metadata": {},
   "source": [
    "Now, let's try going through the whole vocabulary and doing pairwise comparisons -- the brute force way -- to see what more specific words are most similar to (least distant from) each chef:"
   ]
  },
  {
   "cell_type": "code",
   "execution_count": 296,
   "metadata": {
    "collapsed": false
   },
   "outputs": [
    {
     "name": "stderr",
     "output_type": "stream",
     "text": []
    }
   ],
   "source": [
    "n = 10\n",
    "chefs_and_terms = {}\n",
    "for chef, c_vec in tqdm(chefs_and_vecs.items()):\n",
    "    cosine_dists = []\n",
    "    for ingredient in w2v_model3.vocab.keys():\n",
    "        cosine_dists.append((\n",
    "                (spatial.distance.cosine(c_vec, w2v_model3[ingredient])), ingredient))\n",
    "    cosine_dists = sorted(cosine_dists)\n",
    "    profile = {i:v for i, v in cosine_dists[:n]}\n",
    "    chefs_and_terms[chef] = profile"
   ]
  },
  {
   "cell_type": "markdown",
   "metadata": {},
   "source": [
    "How to Have Better Stopwords:\n",
    "- take out all words around salt, sugar, flour\n",
    "- remove measurements: \n",
    "- remove non-english words (use enchant to check)\n",
    "\n",
    "```\n",
    "import enchant\n",
    ">>> d = enchant.Dict(\"en_US\")\n",
    ">>> d.check(\"Hello\")\n",
    "True\n",
    ">>> d.check(\"Helo\")\n",
    "False\n",
    ">>> d.suggest(\"Helo\")\n",
    "```\n",
    "\n",
    "more stops = 'dale', 'free', 'enhancer', 'coke', 'casserole', 'dale', 'hp', 'pot', 'weed', 'santo', 'fresh', 'yardlong', 'inner', 'blade', 'outer', 'bucco', 'low', 'bottom', 'top', 'navy', 'eye', 'umms', 'veri', 'flat', 'tenderized', 'tenderizer', 'landis', 'marinating', 'reduced', 'open', 'close', 'excess', 'le', 'isolate', 'lower', 'leftover', 'complete', 'pace', 'pit', 'stacys', \n",
    "'refined', 'tip', 'au', 'jus', 'ey', 'vay', 'oigatsuo', 'topside', 'hsing', 'pace', 'par', 'yet', 'nielsen', 'flap', 'crosse', 'di', 'grilling', 'braising', 'vital', 'columbia', 'left', 'right', 'bing', 'blade', 'crest', 'blue'"
   ]
  },
  {
   "cell_type": "code",
   "execution_count": 297,
   "metadata": {
    "collapsed": false,
    "scrolled": true
   },
   "outputs": [
    {
     "data": {
      "text/plain": [
       "{u'Alton Brown': {0.69734844929239859: u'hickory',\n",
       "  0.71433895817362403: u'dale',\n",
       "  0.71920770170791926: u'free',\n",
       "  0.72063949820125017: u'enhancer',\n",
       "  0.7244113873428315: u'coke',\n",
       "  0.73022336853177161: u'weed',\n",
       "  0.7321403736971106: u'fajitas',\n",
       "  0.7330889963202436: u'santo',\n",
       "  0.73454134572740093: u'casserole',\n",
       "  0.73515722034769926: u'consomme'},\n",
       " u'Bobby Flay': {0.6507060190050924: u'marinating',\n",
       "  0.6729841908329699: u'casserole',\n",
       "  0.67534042790904514: u'dale',\n",
       "  0.68356853595068279: u'pot',\n",
       "  0.68662961609588669: u'tenderized',\n",
       "  0.68853114346362931: u'cheap',\n",
       "  0.68898541356656451: u'hp',\n",
       "  0.68989544390815483: u'fajitas',\n",
       "  0.69804137970364433: u'coke',\n",
       "  0.69861990744380609: u'burgundy'},\n",
       " u'Duff Goldman': {0.64814711514626566: u'fresh',\n",
       "  0.66787083188458107: u'boudin',\n",
       "  0.67022257493069959: u'santo',\n",
       "  0.71120962903305807: u'sable',\n",
       "  0.71336053299713531: u'morello',\n",
       "  0.71433635658957706: u'sicilia',\n",
       "  0.72449986471774186: u'zest',\n",
       "  0.72737545620851951: u'muscovy',\n",
       "  0.72887175848096497: u'yardlong',\n",
       "  0.72985923515855411: u'vin'},\n",
       " u'Giada De Laurentiis': {0.63650478388259368: u'hp',\n",
       "  0.64289685124323814: u'marinating',\n",
       "  0.65110505904018234: u'casserole',\n",
       "  0.66341701202357384: u'dale',\n",
       "  0.66538272380347752: u'tenderized',\n",
       "  0.66981986272511107: u'cheap',\n",
       "  0.67266259036434739: u'inner',\n",
       "  0.67516385081042452: u'pot',\n",
       "  0.6784227202369999: u'blade',\n",
       "  0.67879467274157423: u'bucco'},\n",
       " u'Guy Fieri': {0.63803505278964656: u'pot',\n",
       "  0.6555278538061875: u'hp',\n",
       "  0.65818748977013919: u'dale',\n",
       "  0.66046031061015631: u'marinating',\n",
       "  0.66551563882365572: u'casserole',\n",
       "  0.66595471119348315: u'low',\n",
       "  0.66909140324657812: u'reduced',\n",
       "  0.66933908635423245: u'free',\n",
       "  0.67049833550705307: u'moose',\n",
       "  0.68273427520363394: u'tenderized'},\n",
       " u'Ina Garten': {0.69371687147920447: u'pit',\n",
       "  0.70797066931387476: u'cannelloni',\n",
       "  0.71426546110024614: u'fresh',\n",
       "  0.71711849134420902: u'manouri',\n",
       "  0.72239784191121514: u'salata',\n",
       "  0.72915037288838658: u'needle',\n",
       "  0.73653946493598799: u'oliv',\n",
       "  0.74273336832467129: u'weimehl',\n",
       "  0.74301696386106442: u'bocconcini',\n",
       "  0.74381291754849932: u'marinating'},\n",
       " u'Marcela Valladolid': {0.55546623602490219: u'pot',\n",
       "  0.62466531692436411: u'low',\n",
       "  0.62866593152834527: u'reduced',\n",
       "  0.64694090130907123: u'casserole',\n",
       "  0.64884613237241995: u'dale',\n",
       "  0.65454396084297761: u'burgundy',\n",
       "  0.65514975725526292: u'hp',\n",
       "  0.65710732456978116: u'open',\n",
       "  0.65808313311603583: u'complete',\n",
       "  0.66370093528720653: u'pace'},\n",
       " u'Ree Drummond': {0.62453606695645614: u'hickory',\n",
       "  0.66594957125416931: u'chianti',\n",
       "  0.6989530240415841: u'free',\n",
       "  0.70148414515162738: u'enhancer',\n",
       "  0.71229463100579449: u'pot',\n",
       "  0.7187803471153078: u'coke',\n",
       "  0.72075067844178164: u'yufka',\n",
       "  0.72320827235585261: u'navy',\n",
       "  0.72363253387957305: u'ditali',\n",
       "  0.72442543300119633: u'needle'},\n",
       " u'Robert Irvine': {0.60692510942779299: u'pot',\n",
       "  0.64559186068977104: u'free',\n",
       "  0.66318611303148567: u'columbia',\n",
       "  0.66500491305416964: u'open',\n",
       "  0.66617288324415491: u'reduced',\n",
       "  0.66832663199117814: u'excess',\n",
       "  0.67185733541181025: u'low',\n",
       "  0.67313856199070909: u'hp',\n",
       "  0.67523953858003838: u'marinating',\n",
       "  0.67739650613271518: u'casserole'},\n",
       " u'Sunny Anderson': {0.64454495218884122: u'pot',\n",
       "  0.64879832010554339: u'free',\n",
       "  0.66782476778181321: u'hickory',\n",
       "  0.67198945956543432: u'dale',\n",
       "  0.67352491976974727: u'coke',\n",
       "  0.68496619180589224: u'burgundy',\n",
       "  0.68557204990135756: u'marinating',\n",
       "  0.68706172541422061: u'hp',\n",
       "  0.68823604804681882: u'casserole',\n",
       "  0.69089415988405234: u'textured'},\n",
       " u'Trisha Yearwood': {0.6293229488409533: u'hickory',\n",
       "  0.6786103576120619: u'fresh',\n",
       "  0.6833487897637589: u'boudin',\n",
       "  0.68933427337516129: u'enhancer',\n",
       "  0.69109419203113198: u'santo',\n",
       "  0.70597635731834929: u'yufka',\n",
       "  0.707905100225932: u'chianti',\n",
       "  0.71685527366119461: u'sicilia',\n",
       "  0.71874220386691423: u'needle',\n",
       "  0.72230023513673414: u'randall'},\n",
       " u'Valerie Bertinelli': {0.66724775535754355: u'marinating',\n",
       "  0.67517622832016078: u'casserole',\n",
       "  0.68928471073249076: u'cheap',\n",
       "  0.69292801454428332: u'hp',\n",
       "  0.69321529540170213: u'pit',\n",
       "  0.70043187585195987: u'free',\n",
       "  0.7007693991899353: u'tenderized',\n",
       "  0.70107307772224914: u'blade',\n",
       "  0.70225133112794258: u'porterhouse',\n",
       "  0.70470050256756989: u'weed'}}"
      ]
     },
     "execution_count": 297,
     "metadata": {},
     "output_type": "execute_result"
    }
   ],
   "source": [
    "chefs_and_terms"
   ]
  },
  {
   "cell_type": "code",
   "execution_count": 271,
   "metadata": {
    "collapsed": false,
    "scrolled": true
   },
   "outputs": [
    {
     "data": {
      "text/plain": [
       "{u'Alton Brown': {'salty': 0.54850886067244109,\n",
       "  'savory': 1.0529302179094879,\n",
       "  'sour': 0.79584787245092892,\n",
       "  'spicy': 0.94024396448456449,\n",
       "  'sweet': 0.77602165654955124},\n",
       " u'Bobby Flay': {'salty': 0.78531641677214259,\n",
       "  'savory': 1.0405717432196404,\n",
       "  'sour': 0.60565386911110575,\n",
       "  'spicy': 0.72298490106234459,\n",
       "  'sweet': 0.90032817426401279},\n",
       " u'Duff Goldman': {'salty': 0.79241865847585224,\n",
       "  'savory': 1.0762394406147537,\n",
       "  'sour': 0.91331098853190607,\n",
       "  'spicy': 1.227440709520037,\n",
       "  'sweet': 0.54352198887995318},\n",
       " u'Giada De Laurentiis': {'salty': 0.68664707817320925,\n",
       "  'savory': 1.1525459567979803,\n",
       "  'sour': 0.65334983197632512,\n",
       "  'spicy': 0.95067127802446993,\n",
       "  'sweet': 1.0119932259911633},\n",
       " u'Guy Fieri': {'salty': 0.70926505939637075,\n",
       "  'savory': 1.0031607940478497,\n",
       "  'sour': 0.76105555355477095,\n",
       "  'spicy': 0.73465522284518003,\n",
       "  'sweet': 1.0617893810225896},\n",
       " u'Ina Garten': {'salty': 0.70436804830503308,\n",
       "  'savory': 1.1733538145013607,\n",
       "  'sour': 0.73657373602067855,\n",
       "  'spicy': 1.0342209662788466,\n",
       "  'sweet': 0.82215922663690488},\n",
       " u'Marcela Valladolid': {'salty': 0.75242039692913332,\n",
       "  'savory': 1.0784435348853749,\n",
       "  'sour': 0.80426824342535808,\n",
       "  'spicy': 0.55839973927081621,\n",
       "  'sweet': 1.0462943033242946},\n",
       " u'Ree Drummond': {'salty': 0.59811056021893561,\n",
       "  'savory': 1.0944447056635731,\n",
       "  'sour': 0.97019517367236108,\n",
       "  'spicy': 1.0357779463275736,\n",
       "  'sweet': 0.85804826384117061},\n",
       " u'Robert Irvine': {'salty': 0.69434012334472628,\n",
       "  'savory': 1.0141045594830986,\n",
       "  'sour': 0.82958142948991886,\n",
       "  'spicy': 0.84931885059044165,\n",
       "  'sweet': 1.0912120219592092},\n",
       " u'Sunny Anderson': {'salty': 0.71023477753748887,\n",
       "  'savory': 1.0541138171631659,\n",
       "  'sour': 0.79624604812422783,\n",
       "  'spicy': 0.85925355655516023,\n",
       "  'sweet': 0.92385334907863759},\n",
       " u'Trisha Yearwood': {'salty': 0.69778616429917462,\n",
       "  'savory': 1.0992830538413396,\n",
       "  'sour': 0.96048835037752345,\n",
       "  'spicy': 1.1783236560176025,\n",
       "  'sweet': 0.70563823155420224},\n",
       " u'Valerie Bertinelli': {'salty': 0.6726349710465267,\n",
       "  'savory': 1.1490820219974578,\n",
       "  'sour': 0.6395365178167407,\n",
       "  'spicy': 0.97228950245954149,\n",
       "  'sweet': 0.87858702754747631}}"
      ]
     },
     "execution_count": 271,
     "metadata": {},
     "output_type": "execute_result"
    }
   ],
   "source": [
    "chefs_and_flavors"
   ]
  },
  {
   "cell_type": "code",
   "execution_count": 274,
   "metadata": {
    "collapsed": false
   },
   "outputs": [
    {
     "name": "stdout",
     "output_type": "stream",
     "text": [
      "Giada De Laurentiis\n",
      "[0.65334983197632512, 0.68664707817320925, 0.95067127802446993, 1.0119932259911633, 1.1525459567979803]\n",
      "Alton Brown\n",
      "[0.54850886067244109, 0.77602165654955124, 0.79584787245092892, 0.94024396448456449, 1.0529302179094879]\n",
      "Trisha Yearwood\n",
      "[0.69778616429917462, 0.70563823155420224, 0.96048835037752345, 1.0992830538413396, 1.1783236560176025]\n",
      "Guy Fieri\n",
      "[0.70926505939637075, 0.73465522284518003, 0.76105555355477095, 1.0031607940478497, 1.0617893810225896]\n",
      "Valerie Bertinelli\n",
      "[0.6395365178167407, 0.6726349710465267, 0.87858702754747631, 0.97228950245954149, 1.1490820219974578]\n",
      "Marcela Valladolid\n",
      "[0.55839973927081621, 0.75242039692913332, 0.80426824342535808, 1.0462943033242946, 1.0784435348853749]\n",
      "Ina Garten\n",
      "[0.70436804830503308, 0.73657373602067855, 0.82215922663690488, 1.0342209662788466, 1.1733538145013607]\n",
      "Ree Drummond\n",
      "[0.59811056021893561, 0.85804826384117061, 0.97019517367236108, 1.0357779463275736, 1.0944447056635731]\n",
      "Bobby Flay\n",
      "[0.60565386911110575, 0.72298490106234459, 0.78531641677214259, 0.90032817426401279, 1.0405717432196404]\n",
      "Robert Irvine\n",
      "[0.69434012334472628, 0.82958142948991886, 0.84931885059044165, 1.0141045594830986, 1.0912120219592092]\n",
      "Duff Goldman\n",
      "[0.54352198887995318, 0.79241865847585224, 0.91331098853190607, 1.0762394406147537, 1.227440709520037]\n",
      "Sunny Anderson\n",
      "[0.71023477753748887, 0.79624604812422783, 0.85925355655516023, 0.92385334907863759, 1.0541138171631659]\n"
     ]
    }
   ],
   "source": [
    "for chef, flavors in chefs_and_flavors.items():\n",
    "    print chef\n",
    "    print sorted(flavors.values())"
   ]
  },
  {
   "cell_type": "code",
   "execution_count": 300,
   "metadata": {
    "collapsed": false
   },
   "outputs": [],
   "source": [
    "#a = raw_input(\"what's your name?\")\n",
    "with open('word2vec_ingredients_take_4.pkl', 'r') as picklefile: \n",
    "    w2v_model4 = pickle.load(picklefile)"
   ]
  },
  {
   "cell_type": "code",
   "execution_count": 312,
   "metadata": {
    "collapsed": false
   },
   "outputs": [
    {
     "data": {
      "text/plain": [
       "27660"
      ]
     },
     "execution_count": 312,
     "metadata": {},
     "output_type": "execute_result"
    }
   ],
   "source": [
    "len(w2v_model.vocab.keys())"
   ]
  },
  {
   "cell_type": "code",
   "execution_count": 313,
   "metadata": {
    "collapsed": false
   },
   "outputs": [
    {
     "data": {
      "text/plain": [
       "7638"
      ]
     },
     "execution_count": 313,
     "metadata": {},
     "output_type": "execute_result"
    }
   ],
   "source": [
    "len(w2v_model4.vocab.keys())"
   ]
  },
  {
   "cell_type": "code",
   "execution_count": 319,
   "metadata": {
    "collapsed": true
   },
   "outputs": [],
   "source": [
    "a = tuple()"
   ]
  },
  {
   "cell_type": "code",
   "execution_count": 325,
   "metadata": {
    "collapsed": false
   },
   "outputs": [
    {
     "data": {
      "text/plain": [
       "[(0.5, 'c', 'd'), (1, 'a', 'b')]"
      ]
     },
     "execution_count": 325,
     "metadata": {},
     "output_type": "execute_result"
    }
   ],
   "source": [
    "a = [(1,'a','b'), (.5,'c','d')]\n",
    "sorted(a)"
   ]
  },
  {
   "cell_type": "code",
   "execution_count": 333,
   "metadata": {
    "collapsed": false
   },
   "outputs": [
    {
     "data": {
      "text/plain": [
       "[(0.47091299441213968, u'Vanilla Frosting', u'Giada De Laurentiis'),\n",
       " (-0.14475398081711058, u'Salmon Baked in Foil', u'Giada De Laurentiis'),\n",
       " (-0.22933019380587163,\n",
       "  u'Italian Baked Chicken and Pastina',\n",
       "  u'Giada De Laurentiis'),\n",
       " (0.36871631600606525, u'Chocolate Dessert Salami', u'Giada De Laurentiis'),\n",
       " (-0.31717324435235283,\n",
       "  u'Stuffed Red Bell Pepper Rellenos',\n",
       "  u'Giada De Laurentiis')]"
      ]
     },
     "execution_count": 333,
     "metadata": {},
     "output_type": "execute_result"
    }
   ],
   "source": [
    "c_scores[:5]"
   ]
  },
  {
   "cell_type": "code",
   "execution_count": 334,
   "metadata": {
    "collapsed": true
   },
   "outputs": [],
   "source": [
    "holder = []\n",
    "for j in c_scores:\n",
    "    holder.append(j[0])"
   ]
  },
  {
   "cell_type": "code",
   "execution_count": 348,
   "metadata": {
    "collapsed": false
   },
   "outputs": [
    {
     "data": {
      "text/plain": [
       "[('dave', 'B', 10), ('jane', 'B', 12), ('john', 'A', 15)]"
      ]
     },
     "execution_count": 348,
     "metadata": {},
     "output_type": "execute_result"
    }
   ],
   "source": [
    "student_tuples = [\n",
    "        ('john', 'A', 15),\n",
    "        ('jane', 'B', 12),\n",
    "        ('dave', 'B', 10),\n",
    "]\n",
    "sorted(student_tuples, key=lambda student: student[2])   \n"
   ]
  },
  {
   "cell_type": "code",
   "execution_count": 351,
   "metadata": {
    "collapsed": false
   },
   "outputs": [],
   "source": [
    "cs = [c[0] for c in c_scores]"
   ]
  },
  {
   "cell_type": "markdown",
   "metadata": {},
   "source": [
    "#recommending, actually:"
   ]
  },
  {
   "cell_type": "code",
   "execution_count": null,
   "metadata": {
    "collapsed": true
   },
   "outputs": [],
   "source": [
    "###1. WHAT ARE OUR MYSTERY INGREDIENTS\n",
    "#what ingredients would you like to use?\n",
    "ingredients = ['a', 'b', 'c', 'd']\n",
    "\n",
    "###2. WHO ARE OUR COMPETITORS\n",
    "#chefs = filter by chefs? or all?\n",
    "if chefs == 'all':\n",
    "    chefs = set(u'Ree Drummond', u'Marcela Valladolid',  u'Sunny Anderson', u'Trisha Yearwood',\n",
    "             u'Valerie Bertinelli', u'Ina Garten', u'Giada De Laurentiis', u'Guy Fieri', \n",
    "             u'Bobby Flay', u'Alton Brown', u'Robert Irvine',  u'Duff Goldman')\n",
    "else:\n",
    "    chefs = set(filt.split(','))\n",
    "\n",
    "###3. WHAT IS OUR TIME CONSTRAINT?\n",
    "#duration = enter a time in minutes, or \"don't care\"\n",
    "if type(duration) == int:\n",
    "    ## filter out all recipes over that time\n",
    "\n",
    "###4. HOW SIMPLE/COMPLEX DO WE WANT THEM TO GO? (scale from 1-10)\n",
    "#simp_comp = choose \"simple\", \"complex\", or \"don't care\"\n",
    "if simp_comp == 'simple':\n",
    "    take \"Easy\" recipes\n",
    "    #chefs = set([u'Ree Drummond', u'Marcela Valladolid',  u'Sunny Anderson', u'Trisha Yearwood',\n",
    "    #         u'Valerie Bertinelli', u'Ina Garten', u'Giada De Laurentiis']) & chefs\n",
    "elif simp_comp == 'complex':\n",
    "    take non-\"Easy\" recipes\n",
    "    #chefs = set([u'Guy Fieri', u'Bobby Flay', u'Alton Brown', u'Robert Irvine',  \n",
    "    #             u'Duff Goldman']) & chefs\n",
    "else:\n",
    "    continue\n",
    "    #chefs = chefs\n",
    "\n",
    "###5. DIETARY NEEDS: ...a future optimization... \n",
    "# (vegetarian, vegan, gluten-free, halal, kosher, etc.)\n",
    "# at least vegetarian would be good to try to start with...\n",
    "\n",
    "###6. HOW MANY RECIPES DO WE WANT TO GET BACK? (top 5? top 10? some other number?)\n",
    "#n = ?"
   ]
  },
  {
   "cell_type": "markdown",
   "metadata": {},
   "source": [
    "###what you get back:\n",
    "- **recipes you could easily throw your ingredients into** (either b/c these recipes call for the ingredients you have, or b/c your ingredients are similar to those in the recipe and would **blend** in/you could substitute one of your ingredients for a similar one in the recipe), \n",
    "- by these chefs, \n",
    "- according to the (optional) time constraint you set."
   ]
  },
  {
   "cell_type": "code",
   "execution_count": null,
   "metadata": {
    "collapsed": true
   },
   "outputs": [],
   "source": [
    "# {u'_id': ObjectId('56ef50cffdb32c0327e5a24f'),\n",
    "#  u'chef': u'Giada De Laurentiis',\n",
    "#  u'cook_time': nan,\n",
    "#  u'difficulty_level': u'Easy',\n",
    "#  u'directions': u'nan',\n",
    "#  u'inactive_time': nan,\n",
    "#  u'ingredients': [u' butter', u'powdered sugar', u'milk', u'vanilla extract'],\n",
    "#  u'prep_time': 5,\n",
    "#  u'title': u'Vanilla Frosting',\n",
    "#  u'total_time': 5,\n",
    "#  u'yield': u'about 1 pound (enough for 12 cupcakes)'}"
   ]
  },
  {
   "cell_type": "code",
   "execution_count": 413,
   "metadata": {
    "collapsed": false
   },
   "outputs": [
    {
     "data": {
      "text/plain": [
       "[0, 1, 2, 3, 4, 5, 6, 7, 8, 9, 10, 11]"
      ]
     },
     "execution_count": 413,
     "metadata": {},
     "output_type": "execute_result"
    }
   ],
   "source": [
    "chefs = set([u'Ree Drummond', u'Marcela Valladolid',  u'Sunny Anderson', u'Trisha Yearwood',\n",
    "             u'Valerie Bertinelli', u'Ina Garten', u'Giada De Laurentiis', u'Guy Fieri', \n",
    "             u'Bobby Flay', u'Alton Brown', u'Robert Irvine',  u'Duff Goldman'])\n",
    "range(len(chefs))"
   ]
  },
  {
   "cell_type": "code",
   "execution_count": 487,
   "metadata": {
    "collapsed": false,
    "scrolled": false
   },
   "outputs": [
    {
     "name": "stderr",
     "output_type": "stream",
     "text": [
      "                           "
     ]
    },
    {
     "name": "stdout",
     "output_type": "stream",
     "text": [
      "['garlic', 'basil', 'sweet potato', 'celery']\n"
     ]
    },
    {
     "name": "stderr",
     "output_type": "stream",
     "text": [
      "\r"
     ]
    },
    {
     "data": {
      "text/html": [
       "<div>\n",
       "<table border=\"1\" class=\"dataframe\">\n",
       "  <thead>\n",
       "    <tr style=\"text-align: right;\">\n",
       "      <th></th>\n",
       "      <th>Chef</th>\n",
       "      <th>Cosine Score</th>\n",
       "      <th>Link</th>\n",
       "      <th>Picture</th>\n",
       "      <th>Recipe</th>\n",
       "      <th>Recipe Ingredients</th>\n",
       "      <th>Time</th>\n",
       "      <th>Will Your Ingredients Blend?</th>\n",
       "    </tr>\n",
       "  </thead>\n",
       "  <tbody>\n",
       "    <tr>\n",
       "      <th>1</th>\n",
       "      <td>Giada De Laurentiis</td>\n",
       "      <td>0.699641</td>\n",
       "      <td>coming soon!</td>\n",
       "      <td>coming soon!</td>\n",
       "      <td>Pirate Pasta</td>\n",
       "      <td>[penne, pecorino romano cheese  ounces, extra-...</td>\n",
       "      <td>35</td>\n",
       "      <td>sure</td>\n",
       "    </tr>\n",
       "    <tr>\n",
       "      <th>2</th>\n",
       "      <td>Alton Brown</td>\n",
       "      <td>0.696881</td>\n",
       "      <td>coming soon!</td>\n",
       "      <td>coming soon!</td>\n",
       "      <td>Chicken Noodle Soup</td>\n",
       "      <td>[chicken stock, diced onion, diced celery, min...</td>\n",
       "      <td>37</td>\n",
       "      <td>sure</td>\n",
       "    </tr>\n",
       "    <tr>\n",
       "      <th>3</th>\n",
       "      <td>Ree Drummond</td>\n",
       "      <td>0.690621</td>\n",
       "      <td>coming soon!</td>\n",
       "      <td>coming soon!</td>\n",
       "      <td>Pantry Pasta</td>\n",
       "      <td>[red onion, olive oil, chicken stock white win...</td>\n",
       "      <td>30</td>\n",
       "      <td>sure</td>\n",
       "    </tr>\n",
       "    <tr>\n",
       "      <th>4</th>\n",
       "      <td>Trisha Yearwood</td>\n",
       "      <td>0.670367</td>\n",
       "      <td>coming soon!</td>\n",
       "      <td>coming soon!</td>\n",
       "      <td>Spinach Salad with Garlic Dressing</td>\n",
       "      <td>[bacon, olive oil, red wine vinegar, garlic, l...</td>\n",
       "      <td>35</td>\n",
       "      <td>sure</td>\n",
       "    </tr>\n",
       "    <tr>\n",
       "      <th>5</th>\n",
       "      <td>Robert Irvine</td>\n",
       "      <td>0.661725</td>\n",
       "      <td>coming soon!</td>\n",
       "      <td>coming soon!</td>\n",
       "      <td>Marinara Sauce</td>\n",
       "      <td>[grapeseed oil, carrot, celery, onion, garlic,...</td>\n",
       "      <td>45</td>\n",
       "      <td>sure</td>\n",
       "    </tr>\n",
       "    <tr>\n",
       "      <th>6</th>\n",
       "      <td>Valerie Bertinelli</td>\n",
       "      <td>0.660728</td>\n",
       "      <td>coming soon!</td>\n",
       "      <td>coming soon!</td>\n",
       "      <td>Spicy Arrabiata Penne</td>\n",
       "      <td>[penne rigate penne pasta with ridges, olive o...</td>\n",
       "      <td>20</td>\n",
       "      <td>sure</td>\n",
       "    </tr>\n",
       "    <tr>\n",
       "      <th>7</th>\n",
       "      <td>Bobby Flay</td>\n",
       "      <td>0.660311</td>\n",
       "      <td>coming soon!</td>\n",
       "      <td>coming soon!</td>\n",
       "      <td>Grilled Shrimp with Garlic (Gambas al Ajillo)</td>\n",
       "      <td>[olive oil, thyme leaf, ancho chili powder, ga...</td>\n",
       "      <td>15</td>\n",
       "      <td>sure</td>\n",
       "    </tr>\n",
       "    <tr>\n",
       "      <th>8</th>\n",
       "      <td>Guy Fieri</td>\n",
       "      <td>0.656144</td>\n",
       "      <td>coming soon!</td>\n",
       "      <td>coming soon!</td>\n",
       "      <td>Guid's Pickled Hot Veggies</td>\n",
       "      <td>[water, garlic, salt, peppercorn, baby carrot,...</td>\n",
       "      <td>12</td>\n",
       "      <td>sure</td>\n",
       "    </tr>\n",
       "    <tr>\n",
       "      <th>9</th>\n",
       "      <td>Marcela Valladolid</td>\n",
       "      <td>0.655701</td>\n",
       "      <td>coming soon!</td>\n",
       "      <td>coming soon!</td>\n",
       "      <td>Turkey Picadillo Sloppy Joes</td>\n",
       "      <td>[vegetable oil, diced white onion, diced celer...</td>\n",
       "      <td>35</td>\n",
       "      <td>sure</td>\n",
       "    </tr>\n",
       "    <tr>\n",
       "      <th>10</th>\n",
       "      <td>Ina Garten</td>\n",
       "      <td>0.604122</td>\n",
       "      <td>coming soon!</td>\n",
       "      <td>coming soon!</td>\n",
       "      <td>Garlic Oil</td>\n",
       "      <td>[garlic, extra-virgin olive oil]</td>\n",
       "      <td>5</td>\n",
       "      <td>sure</td>\n",
       "    </tr>\n",
       "    <tr>\n",
       "      <th>11</th>\n",
       "      <td>Sunny Anderson</td>\n",
       "      <td>0.593417</td>\n",
       "      <td>coming soon!</td>\n",
       "      <td>coming soon!</td>\n",
       "      <td>Mussels with Chorizo</td>\n",
       "      <td>[bag mussel, olive oil, spicy mexican chorizo,...</td>\n",
       "      <td>35</td>\n",
       "      <td>why not</td>\n",
       "    </tr>\n",
       "    <tr>\n",
       "      <th>12</th>\n",
       "      <td>Duff Goldman</td>\n",
       "      <td>0.302174</td>\n",
       "      <td>coming soon!</td>\n",
       "      <td>coming soon!</td>\n",
       "      <td>Sweet-Hot Cabbage Relish</td>\n",
       "      <td>[vegetable oil, red onion, garlic, head red ca...</td>\n",
       "      <td>35</td>\n",
       "      <td>it's an experiment</td>\n",
       "    </tr>\n",
       "  </tbody>\n",
       "</table>\n",
       "</div>"
      ],
      "text/plain": [
       "                   Chef  Cosine Score          Link       Picture  \\\n",
       "1   Giada De Laurentiis      0.699641  coming soon!  coming soon!   \n",
       "2           Alton Brown      0.696881  coming soon!  coming soon!   \n",
       "3          Ree Drummond      0.690621  coming soon!  coming soon!   \n",
       "4       Trisha Yearwood      0.670367  coming soon!  coming soon!   \n",
       "5         Robert Irvine      0.661725  coming soon!  coming soon!   \n",
       "6    Valerie Bertinelli      0.660728  coming soon!  coming soon!   \n",
       "7            Bobby Flay      0.660311  coming soon!  coming soon!   \n",
       "8             Guy Fieri      0.656144  coming soon!  coming soon!   \n",
       "9    Marcela Valladolid      0.655701  coming soon!  coming soon!   \n",
       "10           Ina Garten      0.604122  coming soon!  coming soon!   \n",
       "11       Sunny Anderson      0.593417  coming soon!  coming soon!   \n",
       "12         Duff Goldman      0.302174  coming soon!  coming soon!   \n",
       "\n",
       "                                           Recipe  \\\n",
       "1                                    Pirate Pasta   \n",
       "2                             Chicken Noodle Soup   \n",
       "3                                    Pantry Pasta   \n",
       "4              Spinach Salad with Garlic Dressing   \n",
       "5                                  Marinara Sauce   \n",
       "6                           Spicy Arrabiata Penne   \n",
       "7   Grilled Shrimp with Garlic (Gambas al Ajillo)   \n",
       "8                      Guid's Pickled Hot Veggies   \n",
       "9                    Turkey Picadillo Sloppy Joes   \n",
       "10                                     Garlic Oil   \n",
       "11                           Mussels with Chorizo   \n",
       "12                       Sweet-Hot Cabbage Relish   \n",
       "\n",
       "                                   Recipe Ingredients  Time  \\\n",
       "1   [penne, pecorino romano cheese  ounces, extra-...    35   \n",
       "2   [chicken stock, diced onion, diced celery, min...    37   \n",
       "3   [red onion, olive oil, chicken stock white win...    30   \n",
       "4   [bacon, olive oil, red wine vinegar, garlic, l...    35   \n",
       "5   [grapeseed oil, carrot, celery, onion, garlic,...    45   \n",
       "6   [penne rigate penne pasta with ridges, olive o...    20   \n",
       "7   [olive oil, thyme leaf, ancho chili powder, ga...    15   \n",
       "8   [water, garlic, salt, peppercorn, baby carrot,...    12   \n",
       "9   [vegetable oil, diced white onion, diced celer...    35   \n",
       "10                   [garlic, extra-virgin olive oil]     5   \n",
       "11  [bag mussel, olive oil, spicy mexican chorizo,...    35   \n",
       "12  [vegetable oil, red onion, garlic, head red ca...    35   \n",
       "\n",
       "   Will Your Ingredients Blend?  \n",
       "1                          sure  \n",
       "2                          sure  \n",
       "3                          sure  \n",
       "4                          sure  \n",
       "5                          sure  \n",
       "6                          sure  \n",
       "7                          sure  \n",
       "8                          sure  \n",
       "9                          sure  \n",
       "10                         sure  \n",
       "11                      why not  \n",
       "12           it's an experiment  "
      ]
     },
     "execution_count": 487,
     "metadata": {},
     "output_type": "execute_result"
    }
   ],
   "source": [
    "###example###\n",
    "ingredients = ['garlic', 'basil', 'sweet potato', 'celery']\n",
    "chefs = ['all']  #choose 'all' or certain chefs, or don't care (default=all)\n",
    "duration = 50  #choose a number of minutes, or don't care (default=all)\n",
    "simp_comp = 'simple'  #choose \"simple\" or \"complex\", or don't care (default=all)\n",
    "#n = 5\n",
    "\n",
    "c_scores = []\n",
    "for recipe in tqdm(celebrity_recipes.find()):\n",
    "    if chefs[0] != 'all' and recipe['chef'] not in chefs:\n",
    "        continue\n",
    "    if duration < recipe['total_time']:\n",
    "        continue\n",
    "    if type(duration) == int:\n",
    "        try:\n",
    "            int(recipe['total_time'])\n",
    "        except:\n",
    "            continue\n",
    "    if simp_comp == 'simple' and recipe['difficulty_level'] != 'Easy':\n",
    "        continue\n",
    "    if simp_comp == 'complex' and recipe['difficulty_level'] == 'Easy':\n",
    "        continue\n",
    "    cosine = w2v_model.n_similarity(recipe['ingredients'], ingredients)\n",
    "    if type(cosine) == np.float64:\n",
    "        c_scores.append((recipe['chef'], recipe['title'], recipe['total_time'], \n",
    "                         cosine, 'coming soon!', 'coming soon!', recipe['ingredients']))\n",
    "c_scores = sorted(c_scores, key=itemgetter(3), reverse=True)\n",
    "top_scores = pd.DataFrame(columns=['Chef', 'Recipe', 'Time', 'Cosine Score', 'Link', 'Picture',\n",
    "                                   'Recipe Ingredients', 'Will Your Ingredients Blend?'])\n",
    "\n",
    "#RE-DO TO PERMIT ONLY 1 ENTRY PER CHEF\n",
    "if chefs[0] == 'all':\n",
    "    chefs = set([u'Ree Drummond', u'Marcela Valladolid',  u'Sunny Anderson', u'Trisha Yearwood',\n",
    "             u'Valerie Bertinelli', u'Ina Garten', u'Giada De Laurentiis', u'Guy Fieri', \n",
    "             u'Bobby Flay', u'Alton Brown', u'Robert Irvine',  u'Duff Goldman'])\n",
    "else:\n",
    "    chefs = set(chefs)\n",
    "count = 0\n",
    "rank = 1\n",
    "used_chefs = set()\n",
    "while used_chefs != chefs:\n",
    "    if c_scores[count][0] not in used_chefs:\n",
    "        if c_scores[count][3] > .7:\n",
    "            answer = 'yes!'\n",
    "        if .6 < c_scores[count][3] <= .7:\n",
    "            answer = 'sure'\n",
    "        elif .4 < c_scores[count][3] <= .6:\n",
    "            answer = 'why not'\n",
    "        else:\n",
    "            answer = \"it's an experiment\"\n",
    "        chef_df = pd.DataFrame({'Chef':c_scores[count][0], 'Recipe':c_scores[count][1], \n",
    "                                'Time':c_scores[count][2], 'Cosine Score':[c_scores[count][3]], \n",
    "                                'Link':c_scores[count][4], 'Picture':c_scores[count][5],\n",
    "                                'Recipe Ingredients':[c_scores[count][6]], \n",
    "                                'Will Your Ingredients Blend?':answer})\n",
    "        chef_df.index = [rank]\n",
    "        top_scores = top_scores.append(chef_df)\n",
    "        used_chefs.add(c_scores[count][0])\n",
    "        rank += 1\n",
    "        count += 1\n",
    "    else:\n",
    "        count += 1\n",
    "\n",
    "print ingredients\n",
    "top_scores\n",
    "\n",
    "# count = 1\n",
    "# while count <= n:\n",
    "#     entry = c_scores[count-1]\n",
    "#     chef_df = pd.DataFrame({'Chef':entry[0], 'Recipe':entry[1], 'Time':entry[2], \n",
    "#                             'Cosine Score':[entry[3]], 'Link':entry[4]})\n",
    "#     chef_df.index = [count]\n",
    "#     top_scores = top_scores.append(chef_df)\n",
    "#     count += 1\n",
    "\n",
    "# top_scores\n",
    "#top_scores = c_scores[:n]"
   ]
  },
  {
   "cell_type": "markdown",
   "metadata": {},
   "source": [
    "#####possible next step:\n",
    "run a bunch of simulations and see who tends to win out, given different constraints\n",
    "(time, difficulty)"
   ]
  },
  {
   "cell_type": "code",
   "execution_count": 382,
   "metadata": {
    "collapsed": false
   },
   "outputs": [],
   "source": [
    "from montecarlo import montecarlo"
   ]
  },
  {
   "cell_type": "code",
   "execution_count": null,
   "metadata": {
    "collapsed": true
   },
   "outputs": [],
   "source": [
    "montecarlo.run()\n",
    "montecarlo.probability()\n",
    "montecarlo.print_results()\n",
    "\n",
    "\n",
    "from montecarlo import montecarlo\n",
    "from random import randint\n",
    "\n",
    "def flip_is_heads(g):\n",
    "    return randint(0, 1) == 0  <-- a bool\n",
    "\n",
    "mc = montecarlo(flip_is_heads)\n",
    "mc.run()"
   ]
  },
  {
   "cell_type": "code",
   "execution_count": 411,
   "metadata": {
    "collapsed": false
   },
   "outputs": [
    {
     "data": {
      "text/plain": [
       "0.60175878424329721"
      ]
     },
     "execution_count": 411,
     "metadata": {},
     "output_type": "execute_result"
    }
   ],
   "source": [
    "a = ['butter', 'milk', 'pretzel']\n",
    "b = ['butter', 'milk', 'onion']\n",
    "w2v_model.n_similarity(a,b)"
   ]
  },
  {
   "cell_type": "code",
   "execution_count": 399,
   "metadata": {
    "collapsed": false
   },
   "outputs": [
    {
     "data": {
      "text/plain": [
       "0.18350341907227408"
      ]
     },
     "execution_count": 399,
     "metadata": {},
     "output_type": "execute_result"
    }
   ],
   "source": [
    "spatial.distance.cosine([1,0,1],[1,1,1])"
   ]
  },
  {
   "cell_type": "code",
   "execution_count": 402,
   "metadata": {
    "collapsed": false
   },
   "outputs": [
    {
     "data": {
      "text/plain": [
       "100"
      ]
     },
     "execution_count": 402,
     "metadata": {},
     "output_type": "execute_result"
    }
   ],
   "source": [
    "len(w2v_model['pretzel'])"
   ]
  },
  {
   "cell_type": "markdown",
   "metadata": {},
   "source": [
    "####try going thru all words in w2v_model4.vocab.keys()"
   ]
  },
  {
   "cell_type": "code",
   "execution_count": 371,
   "metadata": {
    "collapsed": false
   },
   "outputs": [
    {
     "name": "stderr",
     "output_type": "stream",
     "text": []
    },
    {
     "data": {
      "text/plain": [
       "[(0.63446424876414798, u\"Guy's Kickin' Quesadilla\", u'Guy Fieri'),\n",
       " (0.58802822488478479, u'Rainy Day Chicken and Rice Soup', u'Trisha Yearwood'),\n",
       " (0.58559017249725664,\n",
       "  u'Baked Macaroni and Cheese Cupcakes',\n",
       "  u'Giada De Laurentiis'),\n",
       " (0.5762441365716735, u'Chicken Breast Spanaki', u'Bobby Flay'),\n",
       " (0.56308309870823969, u'Breakfast Casserole', u'Bobby Flay')]"
      ]
     },
     "execution_count": 371,
     "metadata": {},
     "output_type": "execute_result"
    }
   ],
   "source": [
    "example = ['mushroom', 'pepper', 'broccoli']\n",
    "#example = [word for word in example if word in w2v_model4.vocab.keys()]\n",
    "#j_scores = []\n",
    "c_scores = []\n",
    "for chefrecipe in tqdm(celebrity_recipes.find()):\n",
    "    #jaccard = compute_jaccard_index(set(chefrecipe['ingredients']), set(example))\n",
    "    #j_scores.append((jaccard, chefrecipe['title'], chefrecipe['chef'], chefrecipe['ingredients']))\n",
    "    cosine = w2v_model.n_similarity(chefrecipe['ingredients'], example)\n",
    "    if type(cosine) == np.float64:\n",
    "        c_scores.append((cosine, chefrecipe['title'], chefrecipe['chef']))\n",
    "c_scores = sorted(c_scores, key=itemgetter(0), reverse=True)\n",
    "c_scores[:5]\n",
    "# j_scores = sorted(j_scores, key=itemgetter(0), reverse=True)\n",
    "# j_scores[:5]"
   ]
  },
  {
   "cell_type": "code",
   "execution_count": null,
   "metadata": {
    "collapsed": true
   },
   "outputs": [],
   "source": [
    "def recommend_recipes(chef, filename):\n",
    "    count = 0\n",
    "    scores_df = pd.DataFrame(columns=['Chef', 'Recipe', 'CosineSim by Recipe', 'CosineSim by Ingredient'])\n",
    "    \n",
    "    for chefrecipe in tqdm(celebrity_recipes.find({'chef': chef})):\n",
    "        j_scores = []\n",
    "        c_scores_by_recipe = []\n",
    "        c_scores_by_recipe_by_ingredient = []\n",
    "        c_scores_by_ingredient = []\n",
    "        for coll in [yummly_recipes, yummly_recipes2, yummly_recipes3]:\n",
    "            for otherrecipe in coll.find({'celebrity_recipe':chefrecipe['title']}):\n",
    "                jaccard = compute_jaccard_index(\n",
    "                    set(chefrecipe['ingredients']), set(otherrecipe['yummly_ingredients']))\n",
    "                j_scores.append(jaccard)\n",
    "                cosine = w2v_model.n_similarity(\n",
    "                    chefrecipe['ingredients'], otherrecipe['yummly_ingredients'])\n",
    "                c_scores.append(cosine)\n",
    "                cosineingredients = np.mean([w2v_model.similarity(i1, i2) \n",
    "                                             for i1 in chefrecipe['ingredients']\n",
    "                                             for i2 in otherrecipe['yummly_ingredients']])\n",
    "                \n",
    "                and then do one that's just extend (so can take straightup avg of everything)\n",
    "                \n",
    "                c_scores_by_ingredient\n",
    "        row = pd.DataFrame({'Chef':chef, 'Recipe':chefrecipe['title'],\n",
    "                            'Jaccard Scores':[j_scores], 'Cosine Scores':[c_scores]})\n",
    "        row.index = [count]\n",
    "        scores_df = scores_df.append(row)\n",
    "        count += 1"
   ]
  },
  {
   "cell_type": "code",
   "execution_count": null,
   "metadata": {
    "collapsed": true
   },
   "outputs": [],
   "source": [
    "chefs_and_scores = {}\n",
    "for chef, filename in chefs_and_scorefiles.items():  \n",
    "    cosine = []\n",
    "    jaccard = []\n",
    "    with open(filename, 'r') as picklefile: \n",
    "        scores_df = pickle.load(picklefile)\n",
    "    for row in scores_df.iterrows():\n",
    "        try:\n",
    "            cosine.append(np.mean([score for score in row[1]['Cosine Scores'] \n",
    "                                    if score >= 0]))\n",
    "            jaccard.append(np.mean([score for score in row[1]['Jaccard Scores'] \n",
    "                                    if score != 0]))\n",
    "        except:\n",
    "            continue\n",
    "    cosine = [val for val in cosine if not np.isnan(val)]\n",
    "    jaccard = [val for val in jaccard if not np.isnan(val)]\n",
    "    chefs_and_scores[chef] = {'cosine':cosine, 'jaccard':jaccard}\n",
    "    print chef\n",
    "    print 'cosine similarity scores'\n",
    "    plt.hist(cosine, bins=20, range=(0, 1))\n",
    "    plt.show()\n",
    "    print 'jaccard similarity scores'\n",
    "    plt.hist(jaccard, bins=20, range=(0, .5))\n",
    "    plt.show()"
   ]
  },
  {
   "cell_type": "code",
   "execution_count": 224,
   "metadata": {
    "collapsed": false
   },
   "outputs": [
    {
     "data": {
      "text/plain": [
       "[(u'whipping cream', 0.8002429604530334),\n",
       " (u'heavy cream', 0.7802090644836426),\n",
       " (u'light cream', 0.7739622592926025),\n",
       " (u'double cream', 0.769868016242981),\n",
       " (u'heavy whipping cream', 0.7282690405845642),\n",
       " (u'half & half', 0.6942334771156311),\n",
       " (u'table cream', 0.5315765142440796),\n",
       " (u'evaporated milk', 0.5075598359107971),\n",
       " (u'milk', 0.5028421878814697),\n",
       " (u'low fat cream', 0.48259857296943665)]"
      ]
     },
     "execution_count": 224,
     "metadata": {},
     "output_type": "execute_result"
    }
   ],
   "source": [
    "w2v_model.most_similar('cream')"
   ]
  },
  {
   "cell_type": "code",
   "execution_count": 161,
   "metadata": {
    "collapsed": false
   },
   "outputs": [],
   "source": [
    "avg_sugarbutter = (w2v_model['butter'] + w2v_model['sugar'])/2"
   ]
  },
  {
   "cell_type": "code",
   "execution_count": null,
   "metadata": {
    "collapsed": true
   },
   "outputs": [],
   "source": [
    "(collapsed list of all ingredients used, ever, by a chef)/num of ingredients\n",
    "--> find most_similar vector to this vector, do pairwise comparisons thru corpus\n",
    "--> substitute that in"
   ]
  },
  {
   "cell_type": "code",
   "execution_count": null,
   "metadata": {
    "collapsed": true
   },
   "outputs": [],
   "source": [
    "w2v_model.similarity()\n",
    "--> using np.cosine similarity method to compare vectors for synthesized and each taste\n",
    "#distance OR similarity \n",
    "\n"
   ]
  }
 ],
 "metadata": {
  "kernelspec": {
   "display_name": "Python 2",
   "language": "python",
   "name": "python2"
  },
  "language_info": {
   "codemirror_mode": {
    "name": "ipython",
    "version": 2
   },
   "file_extension": ".py",
   "mimetype": "text/x-python",
   "name": "python",
   "nbconvert_exporter": "python",
   "pygments_lexer": "ipython2",
   "version": "2.7.11"
  }
 },
 "nbformat": 4,
 "nbformat_minor": 0
}
