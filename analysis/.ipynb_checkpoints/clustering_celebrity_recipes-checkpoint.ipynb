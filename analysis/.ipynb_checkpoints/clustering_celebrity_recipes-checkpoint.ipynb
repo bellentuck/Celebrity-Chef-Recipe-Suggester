{
 "cells": [
  {
   "cell_type": "markdown",
   "metadata": {},
   "source": [
    "A notebook for clustering celebrity chef recipes. Clustering by categories proved more effective than clustering either by titles or by titles and categories. All three approaches, evaluated by their inertia curves, are shown below. Inertia, or the within-cluster sum of squares criterion, measures how internally coherent clusters are."
   ]
  },
  {
   "cell_type": "markdown",
   "metadata": {},
   "source": [
    "#0. Setup"
   ]
  },
  {
   "cell_type": "code",
   "execution_count": 22,
   "metadata": {
    "collapsed": false
   },
   "outputs": [],
   "source": [
    "from nltk.stem import WordNetLemmatizer\n",
    "# import numpy as np\n",
    "import pymongo\n",
    "import pickle\n",
    "from tqdm import tqdm\n",
    "import pandas as pd\n",
    "import re\n",
    "from sklearn.feature_extraction.text import CountVectorizer\n",
    "from sklearn.cluster import KMeans\n",
    "from sklearn.cluster import Ward\n",
    "import itertools\n",
    "from matplotlib import pyplot as plt\n",
    "import seaborn\n",
    "%matplotlib inline\n",
    "\n",
    "# import pymongo\n",
    "# import pandas as pd\n",
    "# from tqdm import tqdm\n",
    "# from nltk.corpus import stopwords\n",
    "# from nltk.stem import WordNetLemmatizer\n",
    "# from sklearn.feature_extraction.text import CountVectorizer\n",
    "# #from sklearn.feature_extraction.text import TfidfVectorizer\n",
    "# from sklearn.cluster import KMeans\n",
    "# import re\n",
    "# import itertools\n",
    "# from matplotlib import pyplot as plt\n",
    "# import seaborn\n",
    "# %matplotlib inline"
   ]
  },
  {
   "cell_type": "code",
   "execution_count": 5,
   "metadata": {
    "collapsed": true
   },
   "outputs": [],
   "source": [
    "client = pymongo.MongoClient()\n",
    "chefs = client.chefs_db\n",
    "celebrity_recipes = client.chefs_db.celebrity_recipes\n",
    "recipe_links = client.chefs_db.celebrity_recipe_links"
   ]
  },
  {
   "cell_type": "markdown",
   "metadata": {},
   "source": [
    "#1. Clustering by categories"
   ]
  },
  {
   "cell_type": "markdown",
   "metadata": {},
   "source": [
    "DataFrame of categories:"
   ]
  },
  {
   "cell_type": "code",
   "execution_count": 6,
   "metadata": {
    "collapsed": false
   },
   "outputs": [
    {
     "name": "stderr",
     "output_type": "stream",
     "text": []
    }
   ],
   "source": [
    "categories_df = pd.DataFrame(columns=[\"Chef\", \"Recipe\", \"Categories\"])\n",
    "count = 0\n",
    "for recipe in tqdm(recipe_links.find({}, {\"chef\": 1, \"title\": 1, \"categories\": 1, \"_id\": 0})):\n",
    "    row = pd.DataFrame({\"Chef\": [recipe[\"chef\"]], \"Recipe\": [recipe[\"title\"]], \n",
    "                        \"Categories\": [recipe[\"categories\"]]})\n",
    "    row.index = [count]\n",
    "    categories_df = categories_df.append(row)\n",
    "    count += 1"
   ]
  },
  {
   "cell_type": "code",
   "execution_count": 7,
   "metadata": {
    "collapsed": false
   },
   "outputs": [
    {
     "data": {
      "text/html": [
       "<div>\n",
       "<table border=\"1\" class=\"dataframe\">\n",
       "  <thead>\n",
       "    <tr style=\"text-align: right;\">\n",
       "      <th></th>\n",
       "      <th>Categories</th>\n",
       "      <th>Chef</th>\n",
       "      <th>Recipe</th>\n",
       "    </tr>\n",
       "  </thead>\n",
       "  <tbody>\n",
       "    <tr>\n",
       "      <th>0</th>\n",
       "      <td>[Sugar, Dessert, Frosting]</td>\n",
       "      <td>Giada De Laurentiis</td>\n",
       "      <td>Vanilla Frosting</td>\n",
       "    </tr>\n",
       "    <tr>\n",
       "      <th>1</th>\n",
       "      <td>[Salmon, Main Dish, Jewish Cooking]</td>\n",
       "      <td>Giada De Laurentiis</td>\n",
       "      <td>Salmon Baked in Foil</td>\n",
       "    </tr>\n",
       "    <tr>\n",
       "      <th>2</th>\n",
       "      <td>[Chicken, Main Dish, Pasta Dishes]</td>\n",
       "      <td>Giada De Laurentiis</td>\n",
       "      <td>Italian Baked Chicken and Pastina</td>\n",
       "    </tr>\n",
       "  </tbody>\n",
       "</table>\n",
       "</div>"
      ],
      "text/plain": [
       "                            Categories                 Chef  \\\n",
       "0           [Sugar, Dessert, Frosting]  Giada De Laurentiis   \n",
       "1  [Salmon, Main Dish, Jewish Cooking]  Giada De Laurentiis   \n",
       "2   [Chicken, Main Dish, Pasta Dishes]  Giada De Laurentiis   \n",
       "\n",
       "                              Recipe  \n",
       "0                   Vanilla Frosting  \n",
       "1               Salmon Baked in Foil  \n",
       "2  Italian Baked Chicken and Pastina  "
      ]
     },
     "execution_count": 7,
     "metadata": {},
     "output_type": "execute_result"
    }
   ],
   "source": [
    "categories_df.head(3)"
   ]
  },
  {
   "cell_type": "code",
   "execution_count": 9,
   "metadata": {
    "collapsed": false
   },
   "outputs": [
    {
     "data": {
      "text/plain": [
       "Categories    [Sugar, Dessert, Frosting]\n",
       "Chef                 Giada De Laurentiis\n",
       "Recipe                  Vanilla Frosting\n",
       "Name: 0, dtype: object"
      ]
     },
     "execution_count": 9,
     "metadata": {},
     "output_type": "execute_result"
    }
   ],
   "source": [
    "categories_df.iloc[0]"
   ]
  },
  {
   "cell_type": "code",
   "execution_count": 8,
   "metadata": {
    "collapsed": false
   },
   "outputs": [
    {
     "data": {
      "text/plain": [
       "8136"
      ]
     },
     "execution_count": 8,
     "metadata": {},
     "output_type": "execute_result"
    }
   ],
   "source": [
    "len(categories_df)"
   ]
  },
  {
   "cell_type": "markdown",
   "metadata": {},
   "source": [
    "NLP on categories:"
   ]
  },
  {
   "cell_type": "code",
   "execution_count": 17,
   "metadata": {
    "collapsed": false
   },
   "outputs": [
    {
     "data": {
      "text/plain": [
       "[u'Sugar Dessert Frosting',\n",
       " u'Salmon Main Dish Jewish Cooking',\n",
       " u'Chicken Main Dish Pasta Dishes']"
      ]
     },
     "execution_count": 17,
     "metadata": {},
     "output_type": "execute_result"
    }
   ],
   "source": [
    "stops = {'Lunch','Easy','Sauce','Dinner','Dishes','Baking',\n",
    "         'For A Crowd','Breakfast','Bread','Cheese','Parmesan'}\n",
    "categories = [c for _, c in categories_df['Categories'].iteritems()]\n",
    "categories = [[w for w in c if w not in stops] for c in categories]\n",
    "categories = [' '.join(c) for c in categories] \n",
    "categories[:3]"
   ]
  },
  {
   "cell_type": "markdown",
   "metadata": {},
   "source": [
    "Vectorized categories:"
   ]
  },
  {
   "cell_type": "code",
   "execution_count": 18,
   "metadata": {
    "collapsed": true
   },
   "outputs": [],
   "source": [
    "c_cv = CountVectorizer(categories)\n",
    "c_matrix = c_cv.fit_transform(categories).toarray()"
   ]
  },
  {
   "cell_type": "markdown",
   "metadata": {},
   "source": [
    "Plotting inertia to determine optimal # of clusters (k):"
   ]
  },
  {
   "cell_type": "code",
   "execution_count": 19,
   "metadata": {
    "collapsed": false
   },
   "outputs": [
    {
     "name": "stderr",
     "output_type": "stream",
     "text": [
      "                                               "
     ]
    },
    {
     "name": "stdout",
     "output_type": "stream",
     "text": [
      "minimum inertia: 13475.9851571  when k = 20\n"
     ]
    },
    {
     "name": "stderr",
     "output_type": "stream",
     "text": [
      "\r"
     ]
    },
    {
     "data": {
      "text/plain": [
       "[<matplotlib.lines.Line2D at 0x10f543050>]"
      ]
     },
     "execution_count": 19,
     "metadata": {},
     "output_type": "execute_result"
    },
    {
     "data": {
      "image/png": "[encoded data removed]",
      "text/plain": [
       "<matplotlib.figure.Figure at 0x10ddd7fd0>"
      ]
     },
     "metadata": {},
     "output_type": "display_data"
    }
   ],
   "source": [
    "inertias = []\n",
    "for k in tqdm(range(1,21)):\n",
    "    km = KMeans(n_clusters=k, init = 'k-means++', max_iter = 100, n_init = 1)\n",
    "    km.fit(c_matrix)\n",
    "    i = km.inertia_\n",
    "    inertias.append((k, i))\n",
    "    \n",
    "sort_by_i = sorted(inertias, key=lambda inertia: inertia[1])\n",
    "sort_by_k = sorted(inertias)\n",
    "print 'minimum inertia:', sort_by_i[0][1], ' when k =', sort_by_i[0][0]\n",
    "plt.plot(range(1,21), [inertia[1] for inertia in sort_by_k])"
   ]
  },
  {
   "cell_type": "markdown",
   "metadata": {},
   "source": [
    "Ultimately, after playing around a bunch (and as inertia rates and cluster boundaries tended to vary), I found a particular combination of 14 k-means clusters that gave me adequate baseline groupings for what I wanted: three distinct courses. Load the particular model from the picklefile below, or try your own hand at the interpretation game!"
   ]
  },
  {
   "cell_type": "code",
   "execution_count": null,
   "metadata": {
    "collapsed": true
   },
   "outputs": [],
   "source": [
    "#k-means clustering\n",
    "kmeans14 = KMeans(n_clusters=14)\n",
    "kmeansclusters14 = kmeans14.fit_predict(c_matrix)"
   ]
  },
  {
   "cell_type": "code",
   "execution_count": null,
   "metadata": {
    "collapsed": true
   },
   "outputs": [],
   "source": [
    "#ward hierarchical agglomerative clustering\n",
    "ward14 = Ward(n_clusters=14)\n",
    "wardclusters14 = ward14.fit_predict(c_matrix)"
   ]
  },
  {
   "cell_type": "code",
   "execution_count": 23,
   "metadata": {
    "collapsed": false
   },
   "outputs": [],
   "source": [
    "with open('kmeans_baseline_14_clusters.pkl', 'r') as picklefile:\n",
    "    baseline_clusters = pickle.load(picklefile)"
   ]
  },
  {
   "cell_type": "code",
   "execution_count": 24,
   "metadata": {
    "collapsed": true
   },
   "outputs": [],
   "source": [
    "categories_df['Cluster1'] = baseline_clusters"
   ]
  },
  {
   "cell_type": "code",
   "execution_count": 25,
   "metadata": {
    "collapsed": false
   },
   "outputs": [
    {
     "data": {
      "text/html": [
       "<div>\n",
       "<table border=\"1\" class=\"dataframe\">\n",
       "  <thead>\n",
       "    <tr style=\"text-align: right;\">\n",
       "      <th></th>\n",
       "      <th>Categories</th>\n",
       "      <th>Chef</th>\n",
       "      <th>Recipe</th>\n",
       "      <th>Cluster1</th>\n",
       "    </tr>\n",
       "  </thead>\n",
       "  <tbody>\n",
       "    <tr>\n",
       "      <th>0</th>\n",
       "      <td>[Sugar, Dessert, Frosting]</td>\n",
       "      <td>Giada De Laurentiis</td>\n",
       "      <td>Vanilla Frosting</td>\n",
       "      <td>12</td>\n",
       "    </tr>\n",
       "    <tr>\n",
       "      <th>1</th>\n",
       "      <td>[Salmon, Main Dish, Jewish Cooking]</td>\n",
       "      <td>Giada De Laurentiis</td>\n",
       "      <td>Salmon Baked in Foil</td>\n",
       "      <td>10</td>\n",
       "    </tr>\n",
       "    <tr>\n",
       "      <th>2</th>\n",
       "      <td>[Chicken, Main Dish, Pasta Dishes]</td>\n",
       "      <td>Giada De Laurentiis</td>\n",
       "      <td>Italian Baked Chicken and Pastina</td>\n",
       "      <td>6</td>\n",
       "    </tr>\n",
       "  </tbody>\n",
       "</table>\n",
       "</div>"
      ],
      "text/plain": [
       "                            Categories                 Chef  \\\n",
       "0           [Sugar, Dessert, Frosting]  Giada De Laurentiis   \n",
       "1  [Salmon, Main Dish, Jewish Cooking]  Giada De Laurentiis   \n",
       "2   [Chicken, Main Dish, Pasta Dishes]  Giada De Laurentiis   \n",
       "\n",
       "                              Recipe  Cluster1  \n",
       "0                   Vanilla Frosting        12  \n",
       "1               Salmon Baked in Foil        10  \n",
       "2  Italian Baked Chicken and Pastina         6  "
      ]
     },
     "execution_count": 25,
     "metadata": {},
     "output_type": "execute_result"
    }
   ],
   "source": [
    "categories_df.head(3)"
   ]
  },
  {
   "cell_type": "markdown",
   "metadata": {},
   "source": [
    "Interpreting our clusters, grouping `categories_df` by `Cluster1` and examining each group:\n",
    "\n",
    "```\n",
    "by_course = categories_df.groupby('Cluster1')\n",
    "by_course.get_group(0) \n",
    "by_course.get_group(1)\n",
    "#etc.\n",
    "```\n",
    "0. salad\n",
    "1. potato (side)\n",
    "2. side dish\n",
    "3. dessert\n",
    "4. main dish\n",
    "5. appetizer\n",
    "6. pasta (main)\n",
    "7. beverage\n",
    "8. lunch, sandwiches\n",
    "9. grab bag\n",
    "10. main dish\n",
    "11. main dish grilling\n",
    "12. dessert\n",
    "13. breakfast"
   ]
  },
  {
   "cell_type": "markdown",
   "metadata": {},
   "source": [
    "Refining clusters:"
   ]
  },
  {
   "cell_type": "code",
   "execution_count": 26,
   "metadata": {
    "collapsed": true
   },
   "outputs": [],
   "source": [
    "cluster2 = []\n",
    "for _, c in categories_df.iterrows():\n",
    "    if c['Cluster1'] != 9:\n",
    "        cluster2.append(c['Cluster1'])\n",
    "    elif 'Lunch' in c['Categories']:\n",
    "        cluster2.append(8)\n",
    "    elif 'Dinner' in c['Categories']:\n",
    "        cluster2.append(4)\n",
    "    elif 'Brunch' in c['Categories']:\n",
    "        cluster2.append(13)\n",
    "    elif 'Margarita' in c['Categories']:\n",
    "        cluster2.append(7)\n",
    "    elif 'Brownie' in c['Categories']:\n",
    "        cluster2.append(12)\n",
    "    else:\n",
    "        cluster2.append(2)\n",
    "categories_df['Cluster2'] = cluster2"
   ]
  },
  {
   "cell_type": "code",
   "execution_count": 27,
   "metadata": {
    "collapsed": false
   },
   "outputs": [
    {
     "data": {
      "text/html": [
       "<div>\n",
       "<table border=\"1\" class=\"dataframe\">\n",
       "  <thead>\n",
       "    <tr style=\"text-align: right;\">\n",
       "      <th></th>\n",
       "      <th>Categories</th>\n",
       "      <th>Chef</th>\n",
       "      <th>Recipe</th>\n",
       "      <th>Cluster1</th>\n",
       "      <th>Cluster2</th>\n",
       "    </tr>\n",
       "  </thead>\n",
       "  <tbody>\n",
       "    <tr>\n",
       "      <th>0</th>\n",
       "      <td>[Sugar, Dessert, Frosting]</td>\n",
       "      <td>Giada De Laurentiis</td>\n",
       "      <td>Vanilla Frosting</td>\n",
       "      <td>12</td>\n",
       "      <td>12</td>\n",
       "    </tr>\n",
       "    <tr>\n",
       "      <th>1</th>\n",
       "      <td>[Salmon, Main Dish, Jewish Cooking]</td>\n",
       "      <td>Giada De Laurentiis</td>\n",
       "      <td>Salmon Baked in Foil</td>\n",
       "      <td>10</td>\n",
       "      <td>10</td>\n",
       "    </tr>\n",
       "    <tr>\n",
       "      <th>2</th>\n",
       "      <td>[Chicken, Main Dish, Pasta Dishes]</td>\n",
       "      <td>Giada De Laurentiis</td>\n",
       "      <td>Italian Baked Chicken and Pastina</td>\n",
       "      <td>6</td>\n",
       "      <td>6</td>\n",
       "    </tr>\n",
       "  </tbody>\n",
       "</table>\n",
       "</div>"
      ],
      "text/plain": [
       "                            Categories                 Chef  \\\n",
       "0           [Sugar, Dessert, Frosting]  Giada De Laurentiis   \n",
       "1  [Salmon, Main Dish, Jewish Cooking]  Giada De Laurentiis   \n",
       "2   [Chicken, Main Dish, Pasta Dishes]  Giada De Laurentiis   \n",
       "\n",
       "                              Recipe  Cluster1  Cluster2  \n",
       "0                   Vanilla Frosting        12        12  \n",
       "1               Salmon Baked in Foil        10        10  \n",
       "2  Italian Baked Chicken and Pastina         6         6  "
      ]
     },
     "execution_count": 27,
     "metadata": {},
     "output_type": "execute_result"
    }
   ],
   "source": [
    "categories_df.head(3)"
   ]
  },
  {
   "cell_type": "markdown",
   "metadata": {},
   "source": [
    "Getting courses (`Starters`, `Mains`, `Desserts`), a first stab:"
   ]
  },
  {
   "cell_type": "code",
   "execution_count": 28,
   "metadata": {
    "collapsed": true
   },
   "outputs": [],
   "source": [
    "course = []\n",
    "for _, c in categories_df['Cluster2'].iteritems():\n",
    "    if c==0 or c==1 or c==2 or c==5 or c==13:\n",
    "        course.append('Starters')\n",
    "    elif c==4 or c==6 or c==8 or c==10 or c==11:\n",
    "        course.append('Mains')\n",
    "    else:\n",
    "        course.append('Desserts')\n",
    "categories_df['Course'] = course"
   ]
  },
  {
   "cell_type": "markdown",
   "metadata": {},
   "source": [
    "Further refinements:"
   ]
  },
  {
   "cell_type": "code",
   "execution_count": 29,
   "metadata": {
    "collapsed": true
   },
   "outputs": [],
   "source": [
    "for i, v in categories_df['Recipe'].iteritems():\n",
    "    if v == 'Italian Flatbread (Piadina) with Fontina and Prosciutto' \\\n",
    "    or v == 'Crusty Garlic and Herb Bread' or v == 'Garlic and Cheese Popovers' \\\n",
    "    or v == 'Beer Bread' or v == 'Butter Flake Rolls' or v == 'Parker House Rolls' \\\n",
    "    or v == 'Basic Popovers' or v == 'Basic Popover' or v == 'Pretzel Rolls' \\\n",
    "    or v == \"Guy Fieri's Flatbread\" or v == 'Pita Bread' or v == 'Asiago Pesto Bread' \\\n",
    "    or v == 'Crostini with Tuna Tapenade' or v == 'Garlic Cheese Bread Sticks' \\\n",
    "    or v == 'Garlic Butter Dinner Rolls' or v == 'No-Knead Cloverleaf Rolls' \\\n",
    "    or v == 'Garlic Bread' or v == 'Soft Pretzels with Queso Poblano Sauce and Mustard Sauce' \\\n",
    "    or v == 'Parker House Rolls' or v == 'Flatbread' \\\n",
    "    or v == 'Grilled Flatbread with Garlic Rubbed Fillet of Beef, White Bean Puree and Sun-dried Tomato Chutney' \\\n",
    "    or v == 'Swedish Limpa (Rye Bread)' or v == 'Grilled Garlic Bread' \\\n",
    "    or v == 'Flatbread with Fresh Figs, Monterey Jack, Blue Cheese and Red Wine Reduced Vinaigrette' \\\n",
    "    or v == 'Asparagus and Cheese Popover with Spicy Herb Oil' \\\n",
    "    or v == 'Oven-Baked Flatbread with Pesto, Merguez Sausage and Manchego Cheese' \\\n",
    "    or v == 'White Flour Tortillas' or v == 'Easy Garlic and Olive Bows' \\\n",
    "    or v == 'Pistachio Poppy Bread' or v == \"Sunny's Bammy Buns with Tropical Butter\":\n",
    "        categories_df.loc[i, 'Course'] = 'Starters'"
   ]
  },
  {
   "cell_type": "code",
   "execution_count": 31,
   "metadata": {
    "collapsed": true
   },
   "outputs": [],
   "source": [
    "for i, v in categories_df['Recipe'].iteritems():\n",
    "    if v == 'Fried Okra' or v == 'Herbed Flatbread' or v == 'Sweet-Hot Cabbage Relish' \\\n",
    "    or v == 'Quinoa Pilaf' or v == 'Herbed Quinoa' or v == 'Pea and Basil Soup' \\\n",
    "    or v == 'Cheddar and Scallion Bread' or v == \"Nonna Luna's Rice\":\n",
    "        categories_df.loc[i, 'Course'] = 'Starters'"
   ]
  },
  {
   "cell_type": "code",
   "execution_count": 32,
   "metadata": {
    "collapsed": true
   },
   "outputs": [],
   "source": [
    "for i, v in categories_df['Recipe'].iteritems():\n",
    "    if v == 'Nutella Sandwich' or v == 'Homemade Cinnamon-Raisin Bread' \\\n",
    "    or v == 'Orange Sticky Buns' or v == 'Pumpkin Bread' or v == 'Overnight Citrus Ginger Ring' \\\n",
    "    or v == 'Overnight Cinnamon Rolls' or v == 'Overnight Monkey Bread' \\\n",
    "    or v == 'Mini Monkey Bread Muffins' or v == \"Margaret's Raisin Bread\" \\\n",
    "    or v == 'Fry Bread with Caramelized Oranges and Honey Syrup' or v == 'Date Nut Spice Bread' \\\n",
    "    or v == 'Hot Cross Buns' or v == 'Pecan Pie Monkey Bread' or v == 'Sticky Buns' \\\n",
    "    or v == 'Banana Bread with Vanilla Bean-\"Pecan Butter' or v == 'Biscuit Sticky Buns':\n",
    "        categories_df.loc[i, 'Course'] = 'Desserts'\n",
    "        categories_df.loc[i, 'Cluster2'] = 12"
   ]
  },
  {
   "cell_type": "code",
   "execution_count": 33,
   "metadata": {
    "collapsed": false
   },
   "outputs": [
    {
     "data": {
      "text/html": [
       "<div>\n",
       "<table border=\"1\" class=\"dataframe\">\n",
       "  <thead>\n",
       "    <tr style=\"text-align: right;\">\n",
       "      <th></th>\n",
       "      <th>Categories</th>\n",
       "      <th>Chef</th>\n",
       "      <th>Recipe</th>\n",
       "      <th>Cluster1</th>\n",
       "      <th>Cluster2</th>\n",
       "      <th>Course</th>\n",
       "    </tr>\n",
       "  </thead>\n",
       "  <tbody>\n",
       "    <tr>\n",
       "      <th>0</th>\n",
       "      <td>[Sugar, Dessert, Frosting]</td>\n",
       "      <td>Giada De Laurentiis</td>\n",
       "      <td>Vanilla Frosting</td>\n",
       "      <td>12</td>\n",
       "      <td>12</td>\n",
       "      <td>Desserts</td>\n",
       "    </tr>\n",
       "    <tr>\n",
       "      <th>1</th>\n",
       "      <td>[Salmon, Main Dish, Jewish Cooking]</td>\n",
       "      <td>Giada De Laurentiis</td>\n",
       "      <td>Salmon Baked in Foil</td>\n",
       "      <td>10</td>\n",
       "      <td>10</td>\n",
       "      <td>Mains</td>\n",
       "    </tr>\n",
       "    <tr>\n",
       "      <th>2</th>\n",
       "      <td>[Chicken, Main Dish, Pasta Dishes]</td>\n",
       "      <td>Giada De Laurentiis</td>\n",
       "      <td>Italian Baked Chicken and Pastina</td>\n",
       "      <td>6</td>\n",
       "      <td>6</td>\n",
       "      <td>Mains</td>\n",
       "    </tr>\n",
       "  </tbody>\n",
       "</table>\n",
       "</div>"
      ],
      "text/plain": [
       "                            Categories                 Chef  \\\n",
       "0           [Sugar, Dessert, Frosting]  Giada De Laurentiis   \n",
       "1  [Salmon, Main Dish, Jewish Cooking]  Giada De Laurentiis   \n",
       "2   [Chicken, Main Dish, Pasta Dishes]  Giada De Laurentiis   \n",
       "\n",
       "                              Recipe  Cluster1  Cluster2    Course  \n",
       "0                   Vanilla Frosting        12        12  Desserts  \n",
       "1               Salmon Baked in Foil        10        10     Mains  \n",
       "2  Italian Baked Chicken and Pastina         6         6     Mains  "
      ]
     },
     "execution_count": 33,
     "metadata": {},
     "output_type": "execute_result"
    }
   ],
   "source": [
    "categories_df.head(3)"
   ]
  },
  {
   "cell_type": "markdown",
   "metadata": {},
   "source": [
    "#2. Clustering by titles?"
   ]
  },
  {
   "cell_type": "code",
   "execution_count": 36,
   "metadata": {
    "collapsed": false
   },
   "outputs": [
    {
     "name": "stderr",
     "output_type": "stream",
     "text": []
    }
   ],
   "source": [
    "titles_df = pd.DataFrame(columns=[\"Chef\", \"Title\"])\n",
    "count = 0\n",
    "for recipe in tqdm(recipe_links.find({}, {\"chef\": 1, \"title\": 1, \"_id\": 0})):\n",
    "    row = pd.DataFrame({\"Chef\":[recipe[\"chef\"]], \"Title\": [recipe[\"title\"]]})\n",
    "    row.index = [count]\n",
    "    titles_df = titles_df.append(row)\n",
    "    count += 1"
   ]
  },
  {
   "cell_type": "code",
   "execution_count": 39,
   "metadata": {
    "collapsed": false
   },
   "outputs": [
    {
     "data": {
      "text/html": [
       "<div>\n",
       "<table border=\"1\" class=\"dataframe\">\n",
       "  <thead>\n",
       "    <tr style=\"text-align: right;\">\n",
       "      <th></th>\n",
       "      <th>Chef</th>\n",
       "      <th>Title</th>\n",
       "    </tr>\n",
       "  </thead>\n",
       "  <tbody>\n",
       "    <tr>\n",
       "      <th>0</th>\n",
       "      <td>Giada De Laurentiis</td>\n",
       "      <td>Vanilla Frosting</td>\n",
       "    </tr>\n",
       "    <tr>\n",
       "      <th>1</th>\n",
       "      <td>Giada De Laurentiis</td>\n",
       "      <td>Salmon Baked in Foil</td>\n",
       "    </tr>\n",
       "    <tr>\n",
       "      <th>2</th>\n",
       "      <td>Giada De Laurentiis</td>\n",
       "      <td>Italian Baked Chicken and Pastina</td>\n",
       "    </tr>\n",
       "  </tbody>\n",
       "</table>\n",
       "</div>"
      ],
      "text/plain": [
       "                  Chef                              Title\n",
       "0  Giada De Laurentiis                   Vanilla Frosting\n",
       "1  Giada De Laurentiis               Salmon Baked in Foil\n",
       "2  Giada De Laurentiis  Italian Baked Chicken and Pastina"
      ]
     },
     "execution_count": 39,
     "metadata": {},
     "output_type": "execute_result"
    }
   ],
   "source": [
    "titles_df.head(3)"
   ]
  },
  {
   "cell_type": "code",
   "execution_count": 43,
   "metadata": {
    "collapsed": false
   },
   "outputs": [
    {
     "data": {
      "text/plain": [
       "[u'Pumpkin Cream Pie Gingersnap Crust Rum Cheesecake Topping',\n",
       " u'Butterscotch Bourbon Blondies',\n",
       " u'Spanish Style Grilled Fish']"
      ]
     },
     "execution_count": 43,
     "metadata": {},
     "output_type": "execute_result"
    }
   ],
   "source": [
    "titles_by_chef = titles_df.groupby('Chef')\n",
    "chefs_and_titles = {}\n",
    "for chef, group in titles_by_chef:\n",
    "    titles_corpus = []\n",
    "    for _, title in group['Title'].iteritems():\n",
    "        try:\n",
    "            title = re.compile('[^a-zA-Z]').sub(' ', title)\n",
    "            title = ' '.join([word for word in title.split() if word[0] != word[0].lower()])\n",
    "            # tried WordNetLemmatizer().lemmatize(word) but it didn't seem to make a difference,\n",
    "            #  plus without is much faster\n",
    "            titles_corpus.append(title)\n",
    "        except:\n",
    "            pass\n",
    "    chefs_and_titles[chef] = titles_corpus   \n",
    "chefs_and_titles['Duff Goldman'][:3]"
   ]
  },
  {
   "cell_type": "code",
   "execution_count": 44,
   "metadata": {
    "collapsed": false
   },
   "outputs": [
    {
     "name": "stderr",
     "output_type": "stream",
     "text": []
    }
   ],
   "source": [
    "chefs_and_vects = {}\n",
    "for chef, titles in tqdm(chefs_and_titles.items()):\n",
    "    t_cv = CountVectorizer(titles)\n",
    "    t_matrix = t_cv.fit_transform(titles).toarray()\n",
    "    chefs_and_vects[chef] = (titles, t_cv, t_matrix)"
   ]
  },
  {
   "cell_type": "code",
   "execution_count": 46,
   "metadata": {
    "collapsed": false
   },
   "outputs": [
    {
     "name": "stderr",
     "output_type": "stream",
     "text": []
    },
    {
     "data": {
      "image/png": "[encoded data removed]",
      "text/plain": [
       "<matplotlib.figure.Figure at 0x10fe39d10>"
      ]
     },
     "metadata": {},
     "output_type": "display_data"
    }
   ],
   "source": [
    "for chef, values in tqdm(chefs_and_vects.items()):\n",
    "    inertias = {}\n",
    "    for k in range(1,21):\n",
    "        km = KMeans(n_clusters=k, init = 'k-means++', max_iter = 100, n_init = 1)\n",
    "        km.fit(values[2])\n",
    "        i = km.inertia_\n",
    "        inertias[i] = k\n",
    "    min_i = min(inertias.keys())\n",
    "    #print chef\n",
    "    #print 'minimum inertia:', min_i, ' when k =', inertias[min_i] \n",
    "    plt.plot(range(1,21), inertias.keys())"
   ]
  },
  {
   "cell_type": "markdown",
   "metadata": {},
   "source": [
    "As we can infer from the inertia graph above, clustering based on titles is not a good idea."
   ]
  },
  {
   "cell_type": "markdown",
   "metadata": {},
   "source": [
    "#3. Clustering by titles *and* categories?"
   ]
  },
  {
   "cell_type": "code",
   "execution_count": 48,
   "metadata": {
    "collapsed": false
   },
   "outputs": [],
   "source": [
    "both_df = categories_df.drop('Cluster1', axis=1).drop('Cluster2', axis=1).drop('Course', axis=1)"
   ]
  },
  {
   "cell_type": "code",
   "execution_count": 49,
   "metadata": {
    "collapsed": false
   },
   "outputs": [
    {
     "data": {
      "text/html": [
       "<div>\n",
       "<table border=\"1\" class=\"dataframe\">\n",
       "  <thead>\n",
       "    <tr style=\"text-align: right;\">\n",
       "      <th></th>\n",
       "      <th>Categories</th>\n",
       "      <th>Chef</th>\n",
       "      <th>Recipe</th>\n",
       "    </tr>\n",
       "  </thead>\n",
       "  <tbody>\n",
       "    <tr>\n",
       "      <th>0</th>\n",
       "      <td>[Sugar, Dessert, Frosting]</td>\n",
       "      <td>Giada De Laurentiis</td>\n",
       "      <td>Vanilla Frosting</td>\n",
       "    </tr>\n",
       "    <tr>\n",
       "      <th>1</th>\n",
       "      <td>[Salmon, Main Dish, Jewish Cooking]</td>\n",
       "      <td>Giada De Laurentiis</td>\n",
       "      <td>Salmon Baked in Foil</td>\n",
       "    </tr>\n",
       "    <tr>\n",
       "      <th>2</th>\n",
       "      <td>[Chicken, Main Dish, Pasta Dishes]</td>\n",
       "      <td>Giada De Laurentiis</td>\n",
       "      <td>Italian Baked Chicken and Pastina</td>\n",
       "    </tr>\n",
       "  </tbody>\n",
       "</table>\n",
       "</div>"
      ],
      "text/plain": [
       "                            Categories                 Chef  \\\n",
       "0           [Sugar, Dessert, Frosting]  Giada De Laurentiis   \n",
       "1  [Salmon, Main Dish, Jewish Cooking]  Giada De Laurentiis   \n",
       "2   [Chicken, Main Dish, Pasta Dishes]  Giada De Laurentiis   \n",
       "\n",
       "                              Recipe  \n",
       "0                   Vanilla Frosting  \n",
       "1               Salmon Baked in Foil  \n",
       "2  Italian Baked Chicken and Pastina  "
      ]
     },
     "execution_count": 49,
     "metadata": {},
     "output_type": "execute_result"
    }
   ],
   "source": [
    "both_df.head(3)"
   ]
  },
  {
   "cell_type": "code",
   "execution_count": 54,
   "metadata": {
    "collapsed": false
   },
   "outputs": [],
   "source": [
    "titles = [str(r) for _, r in both_df['Recipe'].iteritems()]\n",
    "titles = [re.compile('[^a-zA-Z]').sub(' ', r) for r in titles]\n",
    "titles = [' '.join([word for word in r.split() if word[0] != word[0].lower()]) \n",
    "          for r in titles]\n",
    "categories = [' '.join(c) for _, c in both_df['Categories'].iteritems()]\n",
    "docs = zip(categories, titles)\n",
    "docs = [' '.join(d) for d in docs]"
   ]
  },
  {
   "cell_type": "code",
   "execution_count": 55,
   "metadata": {
    "collapsed": false
   },
   "outputs": [
    {
     "data": {
      "text/plain": [
       "[u'Sugar Dessert Frosting Vanilla Frosting',\n",
       " u'Salmon Main Dish Jewish Cooking Salmon Baked Foil',\n",
       " u'Chicken Main Dish Pasta Dishes Italian Baked Chicken Pastina']"
      ]
     },
     "execution_count": 55,
     "metadata": {},
     "output_type": "execute_result"
    }
   ],
   "source": [
    "docs[:3]"
   ]
  },
  {
   "cell_type": "code",
   "execution_count": 56,
   "metadata": {
    "collapsed": true
   },
   "outputs": [],
   "source": [
    "b_cv = CountVectorizer(docs)\n",
    "b_matrix = b_cv.fit_transform(docs).toarray()"
   ]
  },
  {
   "cell_type": "code",
   "execution_count": 57,
   "metadata": {
    "collapsed": false
   },
   "outputs": [
    {
     "name": "stderr",
     "output_type": "stream",
     "text": [
      "                                               "
     ]
    },
    {
     "name": "stdout",
     "output_type": "stream",
     "text": [
      "minimum inertia: 58079.0067998  when k = 20\n"
     ]
    },
    {
     "name": "stderr",
     "output_type": "stream",
     "text": [
      "\r"
     ]
    },
    {
     "data": {
      "text/plain": [
       "[<matplotlib.lines.Line2D at 0x113859f10>]"
      ]
     },
     "execution_count": 57,
     "metadata": {},
     "output_type": "execute_result"
    },
    {
     "data": {
      "image/png": "[encoded data removed]",
      "text/plain": [
       "<matplotlib.figure.Figure at 0x10fdc6f90>"
      ]
     },
     "metadata": {},
     "output_type": "display_data"
    }
   ],
   "source": [
    "inertias = []\n",
    "for k in tqdm(range(1,21)):\n",
    "    km = KMeans(n_clusters=k, init = 'k-means++', max_iter = 100, n_init = 1)\n",
    "    km.fit(b_matrix)\n",
    "    i = km.inertia_\n",
    "    inertias.append((k, i))    \n",
    "sort_by_i = sorted(inertias, key=lambda inertia: inertia[1])\n",
    "sort_by_k = sorted(inertias)\n",
    "print 'minimum inertia:', sort_by_i[0][1], ' when k =', sort_by_i[0][0]\n",
    "plt.plot(range(1,21), [inertia[1] for inertia in sort_by_k])"
   ]
  },
  {
   "cell_type": "markdown",
   "metadata": {},
   "source": [
    "As we can infer from the inertia graph above, clustering based on categories *and* titles is not a good idea: titles introduce far more noise than they make up for."
   ]
  },
  {
   "cell_type": "markdown",
   "metadata": {},
   "source": [
    "#4. Updating `celebrity_recipes` collection"
   ]
  },
  {
   "cell_type": "code",
   "execution_count": null,
   "metadata": {
    "collapsed": true
   },
   "outputs": [],
   "source": [
    "for _, c in tqdm(categories_df.iterrows()):  \n",
    "    celebrity_recipes.update_many({'chef': c['Chef'], 'title': c['Recipe']}, {\n",
    "            '$set': {'course': c['Course']}})  "
   ]
  },
  {
   "cell_type": "code",
   "execution_count": null,
   "metadata": {
    "collapsed": true
   },
   "outputs": [],
   "source": [
    "cursor = recipe_links.find()\n",
    "for recipe in tqdm(cursor):\n",
    "    celebrity_recipes.update_many({'chef': recipe['chef'], 'title': recipe['title']}, {\n",
    "            '$set': {'img_link': recipe['img_link'], 'page_link': recipe['page_link']}}) "
   ]
  }
 ],
 "metadata": {
  "kernelspec": {
   "display_name": "Python 2",
   "language": "python",
   "name": "python2"
  },
  "language_info": {
   "codemirror_mode": {
    "name": "ipython",
    "version": 2
   },
   "file_extension": ".py",
   "mimetype": "text/x-python",
   "name": "python",
   "nbconvert_exporter": "python",
   "pygments_lexer": "ipython2",
   "version": "2.7.11"
  }
 },
 "nbformat": 4,
 "nbformat_minor": 0
}
