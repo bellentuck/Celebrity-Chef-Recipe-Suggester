{
 "cells": [
  {
   "cell_type": "markdown",
   "metadata": {},
   "source": [
    "A notebook for performing sentiment analysis on celebrity chef tweets, to assess how positively--and unbiasedly--excited their fan bases are for them. While this analysis didn't get a place at the table in the final thrust of the current iteration of this project, it was fun to do. Perhaps you'll find it intriguing, too."
   ]
  },
  {
   "cell_type": "markdown",
   "metadata": {},
   "source": [
    "#0. Setup"
   ]
  },
  {
   "cell_type": "code",
   "execution_count": 9,
   "metadata": {
    "collapsed": true
   },
   "outputs": [],
   "source": [
    "import pymongo\n",
    "import pandas as pd\n",
    "import numpy as np\n",
    "from tqdm import tqdm\n",
    "from textblob import TextBlob"
   ]
  },
  {
   "cell_type": "code",
   "execution_count": 3,
   "metadata": {
    "collapsed": true
   },
   "outputs": [],
   "source": [
    "client = pymongo.MongoClient()\n",
    "chefs = client.chefs_db\n",
    "tweets = client.chefs_db.celebrity_tweets"
   ]
  },
  {
   "cell_type": "code",
   "execution_count": 4,
   "metadata": {
    "collapsed": false
   },
   "outputs": [
    {
     "name": "stderr",
     "output_type": "stream",
     "text": []
    }
   ],
   "source": [
    "tweets_df = pd.DataFrame(columns=[\"Chef\", \"Tweet\", \"Hashtags\", \"Terms\"])\n",
    "count = 0\n",
    "for tweet in tqdm(tweets.find({}, {\"chef\": 1, \"tweet\": 1, \"hashtags\": 1, \"terms\": 1,\n",
    "                                     \"_id\": 0})):\n",
    "    row = pd.DataFrame({\"Chef\":[tweet[\"chef\"]], \"Tweet\": [tweet[\"tweet\"]], \n",
    "                        \"Hashtags\": [tweet[\"hashtags\"]], \n",
    "                        \"Terms\": [tweet[\"terms\"]]})\n",
    "    #[term for term in tweet[\"terms\"] if term != u'RT']\n",
    "    row.index = [count]\n",
    "    tweets_df = tweets_df.append(row)\n",
    "    count += 1"
   ]
  },
  {
   "cell_type": "code",
   "execution_count": 5,
   "metadata": {
    "collapsed": true
   },
   "outputs": [],
   "source": [
    "tweets_by_chef = tweets_df.groupby('Chef')"
   ]
  },
  {
   "cell_type": "code",
   "execution_count": 11,
   "metadata": {
    "collapsed": true
   },
   "outputs": [],
   "source": [
    "num_tweets = {}\n",
    "for chef, group in tweets_by_chef:\n",
    "    num_tweets[chef] = len(group)"
   ]
  },
  {
   "cell_type": "code",
   "execution_count": 12,
   "metadata": {
    "collapsed": false
   },
   "outputs": [
    {
     "data": {
      "text/plain": [
       "{u'Alex Guarnaschelli': 177,\n",
       " u'Alton Brown': 3638,\n",
       " u'Bobby Flay': 952,\n",
       " u'Duff Goldman': 277,\n",
       " u'Giada De Laurentiis': 323,\n",
       " u'Guy Fieri': 1011,\n",
       " u'Ina Garten': 184,\n",
       " u'Marcela Valladolid': 77,\n",
       " u'Ree Drummond': 1363,\n",
       " u'Robert Irvine': 1566,\n",
       " u'Sunny Anderson': 473,\n",
       " u'Trisha Yearwood': 3353,\n",
       " u'Valerie Bertinelli': 546}"
      ]
     },
     "execution_count": 12,
     "metadata": {},
     "output_type": "execute_result"
    }
   ],
   "source": [
    "num_tweets"
   ]
  },
  {
   "cell_type": "markdown",
   "metadata": {},
   "source": [
    "#1. Analysis"
   ]
  },
  {
   "cell_type": "code",
   "execution_count": 6,
   "metadata": {
    "collapsed": false
   },
   "outputs": [
    {
     "name": "stderr",
     "output_type": "stream",
     "text": []
    }
   ],
   "source": [
    "overall_sentiment = {}\n",
    "\n",
    "for chef, group in tqdm(tweets_by_chef):\n",
    "    #tweets = [word.lower() for word in tweet for tweet in group['Tweet']]\n",
    "    flattened = ' '.join(group['Tweet'])\n",
    "    overall_sentiment[chef] = TextBlob(flattened).sentiment"
   ]
  },
  {
   "cell_type": "code",
   "execution_count": 7,
   "metadata": {
    "collapsed": false
   },
   "outputs": [
    {
     "data": {
      "text/plain": [
       "{u'Alex Guarnaschelli': Sentiment(polarity=0.32679404953642155, subjectivity=0.5520099192146438),\n",
       " u'Alton Brown': Sentiment(polarity=0.20729714841301863, subjectivity=0.5234751930168455),\n",
       " u'Bobby Flay': Sentiment(polarity=0.27242927743836776, subjectivity=0.477308313155771),\n",
       " u'Duff Goldman': Sentiment(polarity=0.27260972626355223, subjectivity=0.4632258812615951),\n",
       " u'Giada De Laurentiis': Sentiment(polarity=0.25374179468244723, subjectivity=0.5691501630478002),\n",
       " u'Guy Fieri': Sentiment(polarity=0.2867979275928453, subjectivity=0.5849825331604992),\n",
       " u'Ina Garten': Sentiment(polarity=0.2680021740141368, subjectivity=0.5603314112103178),\n",
       " u'Marcela Valladolid': Sentiment(polarity=0.6810437694099379, subjectivity=0.853105590062112),\n",
       " u'Ree Drummond': Sentiment(polarity=0.31747155031574215, subjectivity=0.6002326562686514),\n",
       " u'Robert Irvine': Sentiment(polarity=0.32760423214821466, subjectivity=0.5731099333236773),\n",
       " u'Sunny Anderson': Sentiment(polarity=0.2236912304945533, subjectivity=0.5459816574979722),\n",
       " u'Trisha Yearwood': Sentiment(polarity=0.37082414219730503, subjectivity=0.6397839588999886),\n",
       " u'Valerie Bertinelli': Sentiment(polarity=0.1622159412623898, subjectivity=0.6113716368304233)}"
      ]
     },
     "execution_count": 7,
     "metadata": {},
     "output_type": "execute_result"
    }
   ],
   "source": [
    "overall_sentiment"
   ]
  },
  {
   "cell_type": "markdown",
   "metadata": {},
   "source": [
    "#2. Scoring "
   ]
  },
  {
   "cell_type": "code",
   "execution_count": 13,
   "metadata": {
    "collapsed": false
   },
   "outputs": [],
   "source": [
    "sentiment_scores = {}\n",
    "for chef, sentiment in overall_sentiment.items():\n",
    "    polarity = sentiment[0]\n",
    "    subjectivity = sentiment[1]\n",
    "    \n",
    "    ##1st pass: naive baseline\n",
    "    #sentiment_score = polarity/subjectivity\n",
    "    \n",
    "    ##2nd pass: weight by number of tweets\n",
    "    #sentiment_score = polarity/subjectivity * num_tweets[chef]\n",
    "    \n",
    "    ##3rd pass: take logs!\n",
    "    #sentiment_score = (np.log(polarity)/np.log(subjectivity) * np.log(num_tweets[chef]))\n",
    "    \n",
    "    ##4th pass: render scores interpretable (think grades)\n",
    "    sentiment_score = 100 - (np.log(polarity)/np.log(subjectivity) * np.log(num_tweets[chef]))\n",
    "    sentiment_score = int(np.round(sentiment_score))\n",
    "    sentiment_scores[chef] = sentiment_score"
   ]
  },
  {
   "cell_type": "code",
   "execution_count": 14,
   "metadata": {
    "collapsed": false,
    "scrolled": true
   },
   "outputs": [
    {
     "data": {
      "text/plain": [
       "{u'Alex Guarnaschelli': 90,\n",
       " u'Alton Brown': 80,\n",
       " u'Bobby Flay': 88,\n",
       " u'Duff Goldman': 91,\n",
       " u'Giada De Laurentiis': 86,\n",
       " u'Guy Fieri': 84,\n",
       " u'Ina Garten': 88,\n",
       " u'Marcela Valladolid': 89,\n",
       " u'Ree Drummond': 84,\n",
       " u'Robert Irvine': 85,\n",
       " u'Sunny Anderson': 85,\n",
       " u'Trisha Yearwood': 82,\n",
       " u'Valerie Bertinelli': 77}"
      ]
     },
     "execution_count": 14,
     "metadata": {},
     "output_type": "execute_result"
    }
   ],
   "source": [
    "sentiment_scores "
   ]
  }
 ],
 "metadata": {
  "kernelspec": {
   "display_name": "Python 2",
   "language": "python",
   "name": "python2"
  },
  "language_info": {
   "codemirror_mode": {
    "name": "ipython",
    "version": 2
   },
   "file_extension": ".py",
   "mimetype": "text/x-python",
   "name": "python",
   "nbconvert_exporter": "python",
   "pygments_lexer": "ipython2",
   "version": "2.7.11"
  }
 },
 "nbformat": 4,
 "nbformat_minor": 0
}
